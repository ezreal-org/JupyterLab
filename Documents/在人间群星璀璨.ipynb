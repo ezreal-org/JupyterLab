{
 "cells": [
  {
   "cell_type": "markdown",
   "metadata": {},
   "source": [
    "**Trojan**"
   ]
  },
  {
   "cell_type": "markdown",
   "metadata": {
    "jupyter": {
     "source_hidden": true
    }
   },
   "source": [
    "```\n",
    "docker pull docker.io/trojangfw/trojan\n",
    "\n",
    "`start_tro.sh`\n",
    "    systemctl start docker\n",
    "    docker run --name=trojan -d --net=host -v /root:/config ${image_id}\n",
    "```\n",
    "\n",
    "```\n",
    "config.json\n",
    "{\n",
    "    \"run_type\": \"server\",\n",
    "    \"local_addr\": \"0.0.0.0\",\n",
    "    \"local_port\": 9999,\n",
    "    \"remote_addr\": \"127.0.0.1\",\n",
    "    \"remote_port\": 80,\n",
    "    \"password\": [\n",
    "        \"x2\",\n",
    "        \"password2\"\n",
    "    ],\n",
    "    \"log_level\": 1,\n",
    "    \"ssl\": {\n",
    "        \"cert\": \"/config/cert.pem\",\n",
    "        \"key\": \"/config/privkey.pem\",\n",
    "        \"key_password\": \"\",\n",
    "        \"cipher\": \"ECDHE-ECDSA-AES128-GCM-SHA256:ECDHE-RSA-AES128-GCM-SHA256:ECDHE-ECDSA-AES256-GCM-SHA384:ECDHE-RSA-AES256-GCM-SHA384:ECDHE-ECDSA-CHACHA20-POLY1305:ECDHE-RSA-CHACHA20-POLY1305:DHE-RSA-AES128-GCM-SHA256:DHE-RSA-AES256-GCM-SHA384\",\n",
    "        \"cipher_tls13\": \"TLS_AES_128_GCM_SHA256:TLS_CHACHA20_POLY1305_SHA256:TLS_AES_256_GCM_SHA384\",\n",
    "        \"prefer_server_cipher\": true,\n",
    "        \"alpn\": [\n",
    "            \"http/1.1\"\n",
    "        ],\n",
    "        \"alpn_port_override\": {\n",
    "            \"h2\": 81\n",
    "        },\n",
    "        \"reuse_session\": true,\n",
    "        \"session_ticket\": false,\n",
    "        \"session_timeout\": 600,\n",
    "        \"plain_http_response\": \"\",\n",
    "        \"curves\": \"\",\n",
    "        \"dhparam\": \"\"\n",
    "    },\n",
    "    \"tcp\": {\n",
    "        \"prefer_ipv4\": false,\n",
    "        \"no_delay\": true,\n",
    "        \"keep_alive\": true,\n",
    "        \"reuse_port\": false,\n",
    "        \"fast_open\": false,\n",
    "        \"fast_open_qlen\": 20\n",
    "    },\n",
    "    \"mysql\": {\n",
    "        \"enabled\": false,\n",
    "        \"server_addr\": \"127.0.0.1\",\n",
    "        \"server_port\": 3306,\n",
    "        \"database\": \"trojan\",\n",
    "        \"username\": \"trojan\",\n",
    "        \"password\": \"\",\n",
    "        \"cafile\": \"\"\n",
    "    }\n",
    "}\n",
    "```"
   ]
  },
  {
   "cell_type": "markdown",
   "metadata": {},
   "source": [
    "**Nginx Config**"
   ]
  },
  {
   "cell_type": "markdown",
   "metadata": {
    "jupyter": {
     "source_hidden": true
    }
   },
   "source": [
    "```\n",
    "# For more information on configuration, see:\n",
    "#   * Official English Documentation: http://nginx.org/en/docs/\n",
    "#   * Official Russian Documentation: http://nginx.org/ru/docs/\n",
    "\n",
    "user nginx;\n",
    "worker_processes auto;\n",
    "error_log /var/log/nginx/error.log;\n",
    "pid /run/nginx.pid;\n",
    "\n",
    "# Load dynamic modules. See /usr/share/doc/nginx/README.dynamic.\n",
    "include /usr/share/nginx/modules/*.conf;\n",
    "\n",
    "events {\n",
    "    worker_connections 1024;\n",
    "}\n",
    "\n",
    "http {\n",
    "    log_format  main  '$remote_addr - $remote_user [$time_local] \"$request\" '\n",
    "                      '$status $body_bytes_sent \"$http_referer\" '\n",
    "                      '\"$http_user_agent\" \"$http_x_forwarded_for\"';\n",
    "\n",
    "    access_log  /var/log/nginx/access.log  main;\n",
    "\n",
    "    client_max_body_size 1024M;\n",
    "    sendfile            on;\n",
    "    tcp_nopush          on;\n",
    "    tcp_nodelay         on;\n",
    "    keepalive_timeout   1800;\n",
    "    types_hash_max_size 204800;\n",
    "\n",
    "    include             /etc/nginx/mime.types;\n",
    "    default_type        application/octet-stream;\n",
    "\n",
    "    # Load modular configuration files from the /etc/nginx/conf.d directory.\n",
    "    # See http://nginx.org/en/docs/ngx_core_module.html#include\n",
    "    # for more information.\n",
    "    include /etc/nginx/conf.d/*.conf;\n",
    "\n",
    "    # server {\n",
    "     #    listen       80 default_server;\n",
    "      #   listen       [::]:80 default_server;\n",
    "        # server_name  ezreal.org;\n",
    "    # rewrite ^(.*)$  https://$host$1 permanent;\n",
    "    # access_log /var/log/nginx.log;\n",
    "        # root         /usr/share/nginx/html;\n",
    "\n",
    "        # Load configuration files for the default server block.\n",
    "        # include /etc/nginx/default.d/*.conf;\n",
    "\n",
    "        # location / {\n",
    "    #   proxy_pass https://127.0.0.1:443;\n",
    "    #   proxy_redirect default;\n",
    "        # }\n",
    "\n",
    "       #  error_page 404 /404.html;\n",
    "        #     location = /40x.html {\n",
    "        # }\n",
    "\n",
    "        # error_page 500 502 503 504 /50x.html;\n",
    "         #    location = /50x.html {\n",
    "        # }\n",
    "   # }\n",
    "    server {\n",
    "        listen       80;\n",
    "        server_name ezreal.org www.ezreal.org;\n",
    "        return 301 https://ezreal.org.cn$request_uri;\n",
    "        # return 301 https://ezreal.org.cn$request_uri;\n",
    "#   location / {\n",
    "#            proxy_set_header HOST $host;\n",
    "##            proxy_set_header X-Forwarded-Proto $scheme;\n",
    "#            proxy_set_header X-Real-IP $remote_addr;\n",
    "#            proxy_set_header X-Forwarded-For $proxy_add_x_forwarded_for;\n",
    "#\n",
    "#            proxy_pass http://127.0.0.1:8090/;\n",
    "#        }\n",
    "    }\n",
    "# Settings for a TLS enabled server.\n",
    "#\n",
    "    server {\n",
    "        listen       443 ssl http2 default_server;\n",
    "        listen       [::]:443 ssl http2 default_server;\n",
    "    return 301 https://ezreal.org.cn$request_uri;\n",
    "     #   server_name  ezreal.org www.ezreal.org;\n",
    "     #   root         /usr/share/nginx/html;\n",
    "#\n",
    "       ssl_certificate \"/etc/letsencrypt/live/ezreal.org-0002/cert.pem\";\n",
    "       ssl_certificate_key \"/etc/letsencrypt/live/ezreal.org-0002/privkey.pem\";\n",
    "        #ssl_session_cache shared:SSL:1m;\n",
    "        #ssl_session_timeout  10m;\n",
    "        #ssl_ciphers PROFILE=SYSTEM;\n",
    "        #ssl_prefer_server_ciphers on;\n",
    "#\n",
    "#        # Load configuration files for the default server block.\n",
    "#        include /etc/nginx/default.d/*.conf;\n",
    "#\n",
    "#        location / {\n",
    "#        }\n",
    "#\n",
    "#        location /jupyter/ {\n",
    "#            proxy_set_header HOST $host;\n",
    "#            proxy_set_header X-Forwarded-Proto $scheme;\n",
    "#            proxy_set_header X-Real-IP $remote_addr;\n",
    "#            proxy_set_header X-Forwarded-For $proxy_add_x_forwarded_for;\n",
    "\n",
    "        # WebSocket proxying\n",
    "#            proxy_http_version 1.1;\n",
    "#            proxy_set_header Upgrade $http_upgrade;\n",
    "#            proxy_set_header Connection \"upgrade\";\n",
    "\n",
    "#            proxy_pass http://127.0.0.1:8888/jupyter/;\n",
    "#        }\n",
    "#\n",
    "        location / {\n",
    "            proxy_set_header HOST $host;\n",
    "            proxy_set_header X-Forwarded-Proto $scheme;\n",
    "            proxy_set_header X-Real-IP $remote_addr;\n",
    "            proxy_set_header X-Forwarded-For $proxy_add_x_forwarded_for;\n",
    "\n",
    "            proxy_pass https://124.71.28.133/;\n",
    "        }\n",
    "\n",
    "        error_page 404 /404.html;\n",
    "            location = /40x.html {\n",
    "        }\n",
    "\n",
    "        error_page 500 502 503 504 /50x.html;\n",
    "            location = /50x.html {\n",
    "        }\n",
    "    }\n",
    "\n",
    "}\n",
    "```"
   ]
  },
  {
   "cell_type": "markdown",
   "metadata": {},
   "source": [
    "**Let's Encrypt**"
   ]
  },
  {
   "cell_type": "markdown",
   "metadata": {
    "jupyter": {
     "source_hidden": true
    }
   },
   "source": [
    "```\n",
    "$ sudo dnf install epel-release\n",
    "$ sudo dnf upgrade\n",
    "$ sudo yum install snapd\n",
    "$ sudo systemctl enable --now snapd.socket\n",
    "$ sudo ln -s /var/lib/snapd/snap /snap\n",
    "$ sudo snap install --classic certbot\n",
    "$ sudo ln -s /snap/bin/certbot /usr/bin/certbot\n",
    "\n",
    "$ certbot certonly -d ezreal.org --nginx\n",
    "```"
   ]
  },
  {
   "cell_type": "markdown",
   "metadata": {},
   "source": [
    "**Halo迁移**"
   ]
  },
  {
   "cell_type": "markdown",
   "metadata": {
    "jupyter": {
     "source_hidden": true
    }
   },
   "source": [
    "[参考](https://halo.run/archives/install-with-linux.html)\n",
    "```\n",
    "$ sudo yum install java-1.8.0-openjdk -y\n",
    "$ useradd -m halo\n",
    "$ usermod -aG wheel halo\n",
    "$ passwd halo\n",
    "\n",
    "$ sudo vim /etc/systemd/system/halo.service\n",
    "Description=Halo Service\n",
    "Documentation=https://halo.run\n",
    "After=network-online.target\n",
    "Wants=network-online.target\n",
    "\n",
    "[Service]\n",
    "Type=simple\n",
    "ExecStart=/usr/bin/java -server -Xms128m -Xmx512m -jar /home/halo/halo-latest.jar\n",
    "ExecStop=/bin/kill -s QUIT $MAINPID\n",
    "Restart=always\n",
    "StandOutput=syslog\n",
    "\n",
    "StandError=inherit\n",
    "\n",
    "[Install]\n",
    "WantedBy=multi-user.target\n",
    "\n",
    "$ scp -r root@${src}:~/.halo ~/\n",
    "```"
   ]
  },
  {
   "cell_type": "markdown",
   "metadata": {},
   "source": [
    "**JupyterLab迁移**"
   ]
  },
  {
   "cell_type": "markdown",
   "metadata": {
    "jupyter": {
     "source_hidden": true
    }
   },
   "source": [
    "1. 复制notebook数据\n",
    "\n",
    "```\n",
    "$ tar -zcf notebook.tar notebook/\n",
    "--\n",
    "$ scp root@ezreal.org.cn:/root/notebook.tar .\n",
    "$ tar -zxvf notebook.tar \n",
    "```\n",
    "\n",
    "2. 启动jupyterLab\n",
    "\n",
    "```\n",
    "$ docker run -d --rm -v /root/notebook/:/home/jovyan -p 8888:8888 6fd start.sh jupyter lab\n",
    "```\n",
    "\n",
    "3. 避免镜像格式不正确[可选]\n",
    "\n",
    "```\n",
    "$ buildah commit --format=docker 0948d27fb440 swr.cn-south-1.myhuaweicloud.com/ezreal/jupyter-base:v1.3\n",
    "```"
   ]
  },
  {
   "cell_type": "code",
   "execution_count": null,
   "metadata": {},
   "outputs": [],
   "source": []
  }
 ],
 "metadata": {
  "kernelspec": {
   "display_name": "Python 3",
   "language": "python",
   "name": "python3"
  },
  "language_info": {
   "codemirror_mode": {
    "name": "ipython",
    "version": 3
   },
   "file_extension": ".py",
   "mimetype": "text/x-python",
   "name": "python",
   "nbconvert_exporter": "python",
   "pygments_lexer": "ipython3",
   "version": "3.8.6"
  },
  "widgets": {
   "application/vnd.jupyter.widget-state+json": {
    "state": {},
    "version_major": 2,
    "version_minor": 0
   }
  }
 },
 "nbformat": 4,
 "nbformat_minor": 4
}
