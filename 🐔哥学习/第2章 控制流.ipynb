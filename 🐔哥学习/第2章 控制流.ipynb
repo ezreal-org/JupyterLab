{
 "cells": [
  {
   "cell_type": "markdown",
   "metadata": {
    "tags": [
     "matplot"
    ]
   },
   "source": [
    "# 第2章 控制流"
   ]
  },
  {
   "cell_type": "markdown",
   "metadata": {},
   "source": [
    "## 2.1布尔值"
   ]
  },
  {
   "cell_type": "code",
   "execution_count": 3,
   "metadata": {},
   "outputs": [],
   "source": [
    "spam = True"
   ]
  },
  {
   "cell_type": "code",
   "execution_count": 4,
   "metadata": {},
   "outputs": [
    {
     "data": {
      "text/plain": [
       "True"
      ]
     },
     "execution_count": 4,
     "metadata": {},
     "output_type": "execute_result"
    }
   ],
   "source": [
    "spam"
   ]
  },
  {
   "cell_type": "markdown",
   "metadata": {},
   "source": [
    "## 2.2比较操作符"
   ]
  },
  {
   "cell_type": "code",
   "execution_count": 4,
   "metadata": {},
   "outputs": [
    {
     "data": {
      "text/plain": [
       "True"
      ]
     },
     "execution_count": 4,
     "metadata": {},
     "output_type": "execute_result"
    }
   ],
   "source": [
    "42 == 42"
   ]
  },
  {
   "cell_type": "code",
   "execution_count": 5,
   "metadata": {},
   "outputs": [
    {
     "data": {
      "text/plain": [
       "False"
      ]
     },
     "execution_count": 5,
     "metadata": {},
     "output_type": "execute_result"
    }
   ],
   "source": [
    "42 == 99"
   ]
  },
  {
   "cell_type": "code",
   "execution_count": 14,
   "metadata": {},
   "outputs": [
    {
     "data": {
      "text/plain": [
       "True"
      ]
     },
     "execution_count": 14,
     "metadata": {},
     "output_type": "execute_result"
    }
   ],
   "source": [
    "2 != 3"
   ]
  },
  {
   "cell_type": "code",
   "execution_count": 15,
   "metadata": {},
   "outputs": [
    {
     "data": {
      "text/plain": [
       "False"
      ]
     },
     "execution_count": 15,
     "metadata": {},
     "output_type": "execute_result"
    }
   ],
   "source": [
    "2 != 2"
   ]
  },
  {
   "cell_type": "code",
   "execution_count": 16,
   "metadata": {},
   "outputs": [
    {
     "data": {
      "text/plain": [
       "True"
      ]
     },
     "execution_count": 16,
     "metadata": {},
     "output_type": "execute_result"
    }
   ],
   "source": [
    "'hello' == 'hello'"
   ]
  },
  {
   "cell_type": "code",
   "execution_count": 17,
   "metadata": {},
   "outputs": [
    {
     "data": {
      "text/plain": [
       "False"
      ]
     },
     "execution_count": 17,
     "metadata": {},
     "output_type": "execute_result"
    }
   ],
   "source": [
    "'hello' == 'Hello'"
   ]
  },
  {
   "cell_type": "code",
   "execution_count": 18,
   "metadata": {},
   "outputs": [
    {
     "data": {
      "text/plain": [
       "True"
      ]
     },
     "execution_count": 18,
     "metadata": {},
     "output_type": "execute_result"
    }
   ],
   "source": [
    "'dog' != 'cat'"
   ]
  },
  {
   "cell_type": "code",
   "execution_count": 20,
   "metadata": {},
   "outputs": [
    {
     "data": {
      "text/plain": [
       "True"
      ]
     },
     "execution_count": 20,
     "metadata": {},
     "output_type": "execute_result"
    }
   ],
   "source": [
    "True == True"
   ]
  },
  {
   "cell_type": "code",
   "execution_count": 21,
   "metadata": {},
   "outputs": [
    {
     "data": {
      "text/plain": [
       "True"
      ]
     },
     "execution_count": 21,
     "metadata": {},
     "output_type": "execute_result"
    }
   ],
   "source": [
    "True != False"
   ]
  },
  {
   "cell_type": "code",
   "execution_count": 22,
   "metadata": {},
   "outputs": [
    {
     "data": {
      "text/plain": [
       "True"
      ]
     },
     "execution_count": 22,
     "metadata": {},
     "output_type": "execute_result"
    }
   ],
   "source": [
    "42 == 42.00"
   ]
  },
  {
   "cell_type": "code",
   "execution_count": 23,
   "metadata": {},
   "outputs": [
    {
     "data": {
      "text/plain": [
       "False"
      ]
     },
     "execution_count": 23,
     "metadata": {},
     "output_type": "execute_result"
    }
   ],
   "source": [
    "42 == '42'"
   ]
  },
  {
   "cell_type": "code",
   "execution_count": 24,
   "metadata": {},
   "outputs": [
    {
     "data": {
      "text/plain": [
       "True"
      ]
     },
     "execution_count": 24,
     "metadata": {},
     "output_type": "execute_result"
    }
   ],
   "source": [
    "42 < 100"
   ]
  },
  {
   "cell_type": "code",
   "execution_count": 25,
   "metadata": {},
   "outputs": [
    {
     "data": {
      "text/plain": [
       "False"
      ]
     },
     "execution_count": 25,
     "metadata": {},
     "output_type": "execute_result"
    }
   ],
   "source": [
    "42 > 100"
   ]
  },
  {
   "cell_type": "code",
   "execution_count": 26,
   "metadata": {},
   "outputs": [
    {
     "data": {
      "text/plain": [
       "False"
      ]
     },
     "execution_count": 26,
     "metadata": {},
     "output_type": "execute_result"
    }
   ],
   "source": [
    "42 < 42"
   ]
  },
  {
   "cell_type": "code",
   "execution_count": 27,
   "metadata": {},
   "outputs": [],
   "source": [
    "eggCount = 42"
   ]
  },
  {
   "cell_type": "code",
   "execution_count": 28,
   "metadata": {},
   "outputs": [
    {
     "data": {
      "text/plain": [
       "True"
      ]
     },
     "execution_count": 28,
     "metadata": {},
     "output_type": "execute_result"
    }
   ],
   "source": [
    "eggCount <= 42"
   ]
  },
  {
   "cell_type": "code",
   "execution_count": 29,
   "metadata": {},
   "outputs": [],
   "source": [
    "myAge = 29"
   ]
  },
  {
   "cell_type": "code",
   "execution_count": 30,
   "metadata": {},
   "outputs": [
    {
     "data": {
      "text/plain": [
       "True"
      ]
     },
     "execution_count": 30,
     "metadata": {},
     "output_type": "execute_result"
    }
   ],
   "source": [
    "myAge >= 10"
   ]
  },
  {
   "cell_type": "markdown",
   "metadata": {},
   "source": [
    "## 2.3布尔操作符"
   ]
  },
  {
   "cell_type": "markdown",
   "metadata": {},
   "source": [
    "### 2.3.1 二元布尔操作符"
   ]
  },
  {
   "cell_type": "code",
   "execution_count": 31,
   "metadata": {},
   "outputs": [
    {
     "data": {
      "text/plain": [
       "True"
      ]
     },
     "execution_count": 31,
     "metadata": {},
     "output_type": "execute_result"
    }
   ],
   "source": [
    "True and True"
   ]
  },
  {
   "cell_type": "code",
   "execution_count": 32,
   "metadata": {},
   "outputs": [
    {
     "data": {
      "text/plain": [
       "False"
      ]
     },
     "execution_count": 32,
     "metadata": {},
     "output_type": "execute_result"
    }
   ],
   "source": [
    "True and False"
   ]
  },
  {
   "cell_type": "code",
   "execution_count": 33,
   "metadata": {},
   "outputs": [
    {
     "data": {
      "text/plain": [
       "True"
      ]
     },
     "execution_count": 33,
     "metadata": {},
     "output_type": "execute_result"
    }
   ],
   "source": [
    "False or True"
   ]
  },
  {
   "cell_type": "code",
   "execution_count": 34,
   "metadata": {},
   "outputs": [
    {
     "data": {
      "text/plain": [
       "False"
      ]
     },
     "execution_count": 34,
     "metadata": {},
     "output_type": "execute_result"
    }
   ],
   "source": [
    "False or False"
   ]
  },
  {
   "cell_type": "markdown",
   "metadata": {},
   "source": [
    "### 2.3.2 not操作符"
   ]
  },
  {
   "cell_type": "code",
   "execution_count": 35,
   "metadata": {},
   "outputs": [
    {
     "data": {
      "text/plain": [
       "False"
      ]
     },
     "execution_count": 35,
     "metadata": {},
     "output_type": "execute_result"
    }
   ],
   "source": [
    "not True"
   ]
  },
  {
   "cell_type": "code",
   "execution_count": 36,
   "metadata": {},
   "outputs": [
    {
     "data": {
      "text/plain": [
       "True"
      ]
     },
     "execution_count": 36,
     "metadata": {},
     "output_type": "execute_result"
    }
   ],
   "source": [
    "not not not not True"
   ]
  },
  {
   "cell_type": "markdown",
   "metadata": {},
   "source": [
    "## 2.4 混合布尔和比较操作符"
   ]
  },
  {
   "cell_type": "code",
   "execution_count": 38,
   "metadata": {},
   "outputs": [
    {
     "data": {
      "text/plain": [
       "True"
      ]
     },
     "execution_count": 38,
     "metadata": {},
     "output_type": "execute_result"
    }
   ],
   "source": [
    "(4 < 5) and (5 < 6)"
   ]
  },
  {
   "cell_type": "code",
   "execution_count": 39,
   "metadata": {},
   "outputs": [
    {
     "data": {
      "text/plain": [
       "False"
      ]
     },
     "execution_count": 39,
     "metadata": {},
     "output_type": "execute_result"
    }
   ],
   "source": [
    "(4 < 5) and (9 < 6)"
   ]
  },
  {
   "cell_type": "code",
   "execution_count": 40,
   "metadata": {},
   "outputs": [
    {
     "data": {
      "text/plain": [
       "True"
      ]
     },
     "execution_count": 40,
     "metadata": {},
     "output_type": "execute_result"
    }
   ],
   "source": [
    "(1 == 2) or (2 == 2)"
   ]
  },
  {
   "cell_type": "code",
   "execution_count": 41,
   "metadata": {},
   "outputs": [
    {
     "data": {
      "text/plain": [
       "True"
      ]
     },
     "execution_count": 41,
     "metadata": {},
     "output_type": "execute_result"
    }
   ],
   "source": [
    "2+2 == 4 and not 2+2 == 5 and 2*2 == 2+2"
   ]
  },
  {
   "cell_type": "markdown",
   "metadata": {},
   "source": [
    "## 2.5控制流的元素"
   ]
  },
  {
   "cell_type": "markdown",
   "metadata": {},
   "source": [
    "### 2.5.1 条件"
   ]
  },
  {
   "cell_type": "markdown",
   "metadata": {},
   "source": [
    "### 2.5.2 代码块"
   ]
  },
  {
   "cell_type": "code",
   "execution_count": 3,
   "metadata": {},
   "outputs": [
    {
     "name": "stdin",
     "output_type": "stream",
     "text": [
      " Mary\n"
     ]
    }
   ],
   "source": [
    "name = input()"
   ]
  },
  {
   "cell_type": "code",
   "execution_count": 5,
   "metadata": {},
   "outputs": [
    {
     "name": "stdin",
     "output_type": "stream",
     "text": [
      " swordfish\n"
     ]
    }
   ],
   "source": [
    "password = input()"
   ]
  },
  {
   "cell_type": "code",
   "execution_count": 8,
   "metadata": {},
   "outputs": [
    {
     "name": "stdout",
     "output_type": "stream",
     "text": [
      "Hello Mary\n",
      "Access granted.\n"
     ]
    }
   ],
   "source": [
    "if name == 'Mary':\n",
    "    print('Hello Mary')\n",
    "    if password == 'swordfish':\n",
    "        print('Access granted.')\n",
    "    else:\n",
    "        print('Wrong password.')"
   ]
  },
  {
   "cell_type": "markdown",
   "metadata": {},
   "source": [
    "## 2.6 程序执行"
   ]
  },
  {
   "cell_type": "markdown",
   "metadata": {},
   "source": [
    "## 2.7 控制流语句"
   ]
  },
  {
   "cell_type": "markdown",
   "metadata": {},
   "source": [
    "### 2.7.1 if语句"
   ]
  },
  {
   "cell_type": "code",
   "execution_count": 9,
   "metadata": {},
   "outputs": [],
   "source": [
    "if name == 'Alice':\n",
    "    print('Hi, Alice.')"
   ]
  },
  {
   "cell_type": "markdown",
   "metadata": {},
   "source": [
    "### 2.7.2 else语句"
   ]
  },
  {
   "cell_type": "code",
   "execution_count": 10,
   "metadata": {},
   "outputs": [
    {
     "name": "stdout",
     "output_type": "stream",
     "text": [
      "Hello, stranger.\n"
     ]
    }
   ],
   "source": [
    "if name == 'Alice':\n",
    "    print('Hi, Alice.')\n",
    "else:\n",
    "    print('Hello, stranger.')"
   ]
  },
  {
   "cell_type": "markdown",
   "metadata": {},
   "source": [
    "### 2.7.3 elif语句 "
   ]
  },
  {
   "cell_type": "code",
   "execution_count": 36,
   "metadata": {},
   "outputs": [],
   "source": [
    "age = int(10.0)"
   ]
  },
  {
   "cell_type": "code",
   "execution_count": 37,
   "metadata": {},
   "outputs": [
    {
     "name": "stdout",
     "output_type": "stream",
     "text": [
      "You are not Alice, kiddo.\n"
     ]
    }
   ],
   "source": [
    "if name == 'Alice':\n",
    "    print('Hi, Alice.')\n",
    "elif age < 12:\n",
    "    print('You are not Alice, kiddo.')\n",
    "elif age > 100:\n",
    "    print('You are not Alice, grannie.')\n",
    "elif age > 2000:\n",
    "    print('Unlike you, Alice is not an undead, immortal vampire.')"
   ]
  },
  {
   "cell_type": "code",
   "execution_count": 38,
   "metadata": {},
   "outputs": [
    {
     "name": "stdout",
     "output_type": "stream",
     "text": [
      "You are not Alice, kiddo.\n"
     ]
    }
   ],
   "source": [
    "if name == 'Alice':\n",
    "    print('Hi, Alice.')\n",
    "elif age < 12:\n",
    "    print('You are not Alice, kiddo.')\n",
    "else:\n",
    "    print('You are neither Alice nor a litter kid.')"
   ]
  },
  {
   "cell_type": "markdown",
   "metadata": {},
   "source": [
    "### 2.7.4 while 循环语句"
   ]
  },
  {
   "cell_type": "code",
   "execution_count": 39,
   "metadata": {},
   "outputs": [
    {
     "name": "stdout",
     "output_type": "stream",
     "text": [
      "Hello, world.\n"
     ]
    }
   ],
   "source": [
    "spam = 0\n",
    "if spam < 5:\n",
    "    print('Hello, world.')\n",
    "    spam = spam+1"
   ]
  },
  {
   "cell_type": "code",
   "execution_count": 40,
   "metadata": {},
   "outputs": [
    {
     "name": "stdout",
     "output_type": "stream",
     "text": [
      "Hello, world.\n",
      "Hello, world.\n",
      "Hello, world.\n",
      "Hello, world.\n",
      "Hello, world.\n"
     ]
    }
   ],
   "source": [
    "spam = 0\n",
    "while spam < 5:\n",
    "    print('Hello, world.')\n",
    "    spam = spam+1"
   ]
  },
  {
   "cell_type": "markdown",
   "metadata": {},
   "source": [
    "### 2.7.5 恼人的循环"
   ]
  },
  {
   "cell_type": "code",
   "execution_count": 41,
   "metadata": {},
   "outputs": [
    {
     "name": "stdout",
     "output_type": "stream",
     "text": [
      "Please type your name.\n"
     ]
    },
    {
     "name": "stdin",
     "output_type": "stream",
     "text": [
      " 宝宝\n"
     ]
    },
    {
     "name": "stdout",
     "output_type": "stream",
     "text": [
      "Please type your name.\n"
     ]
    },
    {
     "name": "stdin",
     "output_type": "stream",
     "text": [
      " your name\n"
     ]
    },
    {
     "name": "stdout",
     "output_type": "stream",
     "text": [
      "Thank you!\n"
     ]
    }
   ],
   "source": [
    "name = ''\n",
    "while name != 'your name':\n",
    "    print('Please type your name.')\n",
    "    name = input()\n",
    "print('Thank you!')"
   ]
  },
  {
   "cell_type": "markdown",
   "metadata": {},
   "source": [
    "## 试试这个-玩一下可以删掉"
   ]
  },
  {
   "cell_type": "code",
   "execution_count": 1,
   "metadata": {},
   "outputs": [
    {
     "data": {
      "application/vnd.jupyter.widget-view+json": {
       "model_id": "0297c314b4654f54a5f39f6355307167",
       "version_major": 2,
       "version_minor": 0
      },
      "text/plain": [
       "interactive(children=(Dropdown(description='file', options=('动图1.gif', '毕业照-1.jpg', '动图2.gif', '.ipynb_checkpo…"
      ]
     },
     "metadata": {},
     "output_type": "display_data"
    }
   ],
   "source": [
    "import os\n",
    "from IPython.display import Image\n",
    "import ipywidgets as widgets\n",
    "from ipywidgets import interact, interact_manual\n",
    "\n",
    "\n",
    "@interact\n",
    "def show_images(file=os.listdir('../Pictures/')):\n",
    "    if str(file).startswith(\".\"):\n",
    "        print('不要选垃圾图片')\n",
    "        return\n",
    "    display(Image('../Pictures/'+file))"
   ]
  },
  {
   "cell_type": "markdown",
   "metadata": {},
   "source": [
    "## 画图示例\n",
    "\n",
    "[参考链接](https://blog.csdn.net/kepengs/article/details/84076071)"
   ]
  },
  {
   "cell_type": "code",
   "execution_count": 2,
   "metadata": {
    "tags": [
     "matplot"
    ]
   },
   "outputs": [
    {
     "data": {
      "image/svg+xml": [
       "<?xml version=\"1.0\" encoding=\"utf-8\" standalone=\"no\"?>\n",
       "<!DOCTYPE svg PUBLIC \"-//W3C//DTD SVG 1.1//EN\"\n",
       "  \"http://www.w3.org/Graphics/SVG/1.1/DTD/svg11.dtd\">\n",
       "<!-- Created with matplotlib (https://matplotlib.org/) -->\n",
       "<svg height=\"235.79081pt\" version=\"1.1\" viewBox=\"0 0 349.2 235.79081\" width=\"349.2pt\" xmlns=\"http://www.w3.org/2000/svg\" xmlns:xlink=\"http://www.w3.org/1999/xlink\">\n",
       " <metadata>\n",
       "  <rdf:RDF xmlns:cc=\"http://creativecommons.org/ns#\" xmlns:dc=\"http://purl.org/dc/elements/1.1/\" xmlns:rdf=\"http://www.w3.org/1999/02/22-rdf-syntax-ns#\">\n",
       "   <cc:Work>\n",
       "    <dc:type rdf:resource=\"http://purl.org/dc/dcmitype/StillImage\"/>\n",
       "    <dc:date>2021-01-06T16:27:52.806951</dc:date>\n",
       "    <dc:format>image/svg+xml</dc:format>\n",
       "    <dc:creator>\n",
       "     <cc:Agent>\n",
       "      <dc:title>Matplotlib v3.3.2, https://matplotlib.org/</dc:title>\n",
       "     </cc:Agent>\n",
       "    </dc:creator>\n",
       "   </cc:Work>\n",
       "  </rdf:RDF>\n",
       " </metadata>\n",
       " <defs>\n",
       "  <style type=\"text/css\">*{stroke-linecap:butt;stroke-linejoin:round;}</style>\n",
       " </defs>\n",
       " <g id=\"figure_1\">\n",
       "  <g id=\"patch_1\">\n",
       "   <path d=\"M 0 235.79081 \n",
       "L 349.2 235.79081 \n",
       "L 349.2 0 \n",
       "L 0 0 \n",
       "z\n",
       "\" style=\"fill:none;\"/>\n",
       "  </g>\n",
       "  <g id=\"axes_1\">\n",
       "   <g id=\"patch_2\">\n",
       "    <path d=\"M 240.568652 44.993742 \n",
       "C 227.429655 33.968814 211.616646 26.595087 194.725477 23.616718 \n",
       "C 177.834307 20.63835 160.452976 22.159019 144.33561 28.025261 \n",
       "L 177.756997 119.849757 \n",
       "L 240.568652 44.993742 \n",
       "z\n",
       "\" style=\"fill:#2e3e0f;opacity:0.5;stroke:#2e3e0f;stroke-linejoin:miter;\"/>\n",
       "   </g>\n",
       "   <g id=\"patch_3\">\n",
       "    <path d=\"M 135.873019 23.139382 \n",
       "C 114.289972 30.99497 96.152588 46.214043 84.668489 66.105087 \n",
       "C 73.184391 85.996131 69.07298 109.313104 73.061367 131.932364 \n",
       "L 169.294405 114.963878 \n",
       "L 135.873019 23.139382 \n",
       "z\n",
       "\" style=\"fill:#4c4000;opacity:0.5;stroke:#4c4000;stroke-linejoin:miter;\"/>\n",
       "   </g>\n",
       "   <g id=\"patch_4\">\n",
       "    <path d=\"M 81.523959 136.818243 \n",
       "C 83.75224 149.455449 88.448108 161.530853 95.342821 172.353383 \n",
       "C 102.237534 183.175914 111.197007 192.5351 121.708494 199.895322 \n",
       "C 132.219981 207.255544 144.079061 212.473664 156.607044 215.25105 \n",
       "C 169.135027 218.028436 182.088275 218.311077 194.725482 216.082796 \n",
       "C 207.362689 213.854515 219.438092 209.158647 230.260622 202.263934 \n",
       "C 241.083153 195.369221 250.44234 186.409748 257.802562 175.89826 \n",
       "C 265.162784 165.386773 270.380903 153.527694 273.158289 140.999711 \n",
       "C 275.935676 128.471728 276.218316 115.518479 273.990035 102.881272 \n",
       "L 177.756997 119.849757 \n",
       "L 81.523959 136.818243 \n",
       "z\n",
       "\" style=\"fill:#283e4b;opacity:0.5;stroke:#283e4b;stroke-linejoin:miter;\"/>\n",
       "   </g>\n",
       "   <g id=\"patch_5\">\n",
       "    <path d=\"M 273.990035 102.881272 \n",
       "C 272.010664 91.655703 268.08228 80.862559 262.382909 70.990959 \n",
       "C 256.683537 61.119359 249.300592 52.320708 240.568649 44.993739 \n",
       "L 177.756997 119.849757 \n",
       "L 273.990035 102.881272 \n",
       "z\n",
       "\" style=\"fill:#482626;opacity:0.5;stroke:#482626;stroke-linejoin:miter;\"/>\n",
       "   </g>\n",
       "   <g id=\"patch_6\">\n",
       "    <path d=\"M 242.523004 43.03939 \n",
       "C 229.384007 32.014462 213.570998 24.640735 196.679828 21.662366 \n",
       "C 179.788659 18.683998 162.407328 20.204668 146.289962 26.07091 \n",
       "L 179.711349 117.895406 \n",
       "L 242.523004 43.03939 \n",
       "z\n",
       "\" style=\"fill:#9acd32;\"/>\n",
       "   </g>\n",
       "   <g id=\"patch_7\">\n",
       "    <path d=\"M 137.82737 21.185031 \n",
       "C 116.244324 29.040618 98.10694 44.259691 86.622841 64.150735 \n",
       "C 75.138742 84.041779 71.027332 107.358752 75.015719 129.978012 \n",
       "L 171.248757 113.009527 \n",
       "L 137.82737 21.185031 \n",
       "z\n",
       "\" style=\"fill:#ffd700;\"/>\n",
       "   </g>\n",
       "   <g id=\"patch_8\">\n",
       "    <path d=\"M 83.47831 134.863891 \n",
       "C 85.706591 147.501098 90.402459 159.576501 97.297172 170.399031 \n",
       "C 104.191885 181.221562 113.151358 190.580749 123.662846 197.940971 \n",
       "C 134.174333 205.301193 146.033412 210.519312 158.561395 213.296698 \n",
       "C 171.089378 216.074085 184.042627 216.356725 196.679834 214.128444 \n",
       "C 209.317041 211.900163 221.392444 207.204295 232.214974 200.309582 \n",
       "C 243.037505 193.414869 252.396692 184.455396 259.756914 173.943909 \n",
       "C 267.117136 163.432421 272.335255 151.573342 275.112641 139.045359 \n",
       "C 277.890028 126.517376 278.172668 113.564127 275.944387 100.92692 \n",
       "L 179.711349 117.895406 \n",
       "L 83.47831 134.863891 \n",
       "z\n",
       "\" style=\"fill:#87cefa;\"/>\n",
       "   </g>\n",
       "   <g id=\"patch_9\">\n",
       "    <path d=\"M 275.944387 100.92692 \n",
       "C 273.965016 89.701351 270.036632 78.908208 264.337261 69.036608 \n",
       "C 258.637889 59.165008 251.254944 50.366357 242.523 43.039387 \n",
       "L 179.711349 117.895406 \n",
       "L 275.944387 100.92692 \n",
       "z\n",
       "\" style=\"fill:#f08080;\"/>\n",
       "   </g>\n",
       "   <g id=\"matplotlib.axis_1\"/>\n",
       "   <g id=\"matplotlib.axis_2\"/>\n",
       "   <g id=\"text_1\">\n",
       "    <!-- frog -->\n",
       "    <g transform=\"translate(198.376676 14.798438)scale(0.1 -0.1)\">\n",
       "     <defs>\n",
       "      <path d=\"M 37.109375 75.984375 \n",
       "L 37.109375 68.5 \n",
       "L 28.515625 68.5 \n",
       "Q 23.6875 68.5 21.796875 66.546875 \n",
       "Q 19.921875 64.59375 19.921875 59.515625 \n",
       "L 19.921875 54.6875 \n",
       "L 34.71875 54.6875 \n",
       "L 34.71875 47.703125 \n",
       "L 19.921875 47.703125 \n",
       "L 19.921875 0 \n",
       "L 10.890625 0 \n",
       "L 10.890625 47.703125 \n",
       "L 2.296875 47.703125 \n",
       "L 2.296875 54.6875 \n",
       "L 10.890625 54.6875 \n",
       "L 10.890625 58.5 \n",
       "Q 10.890625 67.625 15.140625 71.796875 \n",
       "Q 19.390625 75.984375 28.609375 75.984375 \n",
       "z\n",
       "\" id=\"DejaVuSans-102\"/>\n",
       "      <path d=\"M 41.109375 46.296875 \n",
       "Q 39.59375 47.171875 37.8125 47.578125 \n",
       "Q 36.03125 48 33.890625 48 \n",
       "Q 26.265625 48 22.1875 43.046875 \n",
       "Q 18.109375 38.09375 18.109375 28.8125 \n",
       "L 18.109375 0 \n",
       "L 9.078125 0 \n",
       "L 9.078125 54.6875 \n",
       "L 18.109375 54.6875 \n",
       "L 18.109375 46.1875 \n",
       "Q 20.953125 51.171875 25.484375 53.578125 \n",
       "Q 30.03125 56 36.53125 56 \n",
       "Q 37.453125 56 38.578125 55.875 \n",
       "Q 39.703125 55.765625 41.0625 55.515625 \n",
       "z\n",
       "\" id=\"DejaVuSans-114\"/>\n",
       "      <path d=\"M 30.609375 48.390625 \n",
       "Q 23.390625 48.390625 19.1875 42.75 \n",
       "Q 14.984375 37.109375 14.984375 27.296875 \n",
       "Q 14.984375 17.484375 19.15625 11.84375 \n",
       "Q 23.34375 6.203125 30.609375 6.203125 \n",
       "Q 37.796875 6.203125 41.984375 11.859375 \n",
       "Q 46.1875 17.53125 46.1875 27.296875 \n",
       "Q 46.1875 37.015625 41.984375 42.703125 \n",
       "Q 37.796875 48.390625 30.609375 48.390625 \n",
       "z\n",
       "M 30.609375 56 \n",
       "Q 42.328125 56 49.015625 48.375 \n",
       "Q 55.71875 40.765625 55.71875 27.296875 \n",
       "Q 55.71875 13.875 49.015625 6.21875 \n",
       "Q 42.328125 -1.421875 30.609375 -1.421875 \n",
       "Q 18.84375 -1.421875 12.171875 6.21875 \n",
       "Q 5.515625 13.875 5.515625 27.296875 \n",
       "Q 5.515625 40.765625 12.171875 48.375 \n",
       "Q 18.84375 56 30.609375 56 \n",
       "z\n",
       "\" id=\"DejaVuSans-111\"/>\n",
       "      <path d=\"M 45.40625 27.984375 \n",
       "Q 45.40625 37.75 41.375 43.109375 \n",
       "Q 37.359375 48.484375 30.078125 48.484375 \n",
       "Q 22.859375 48.484375 18.828125 43.109375 \n",
       "Q 14.796875 37.75 14.796875 27.984375 \n",
       "Q 14.796875 18.265625 18.828125 12.890625 \n",
       "Q 22.859375 7.515625 30.078125 7.515625 \n",
       "Q 37.359375 7.515625 41.375 12.890625 \n",
       "Q 45.40625 18.265625 45.40625 27.984375 \n",
       "z\n",
       "M 54.390625 6.78125 \n",
       "Q 54.390625 -7.171875 48.1875 -13.984375 \n",
       "Q 42 -20.796875 29.203125 -20.796875 \n",
       "Q 24.46875 -20.796875 20.265625 -20.09375 \n",
       "Q 16.0625 -19.390625 12.109375 -17.921875 \n",
       "L 12.109375 -9.1875 \n",
       "Q 16.0625 -11.328125 19.921875 -12.34375 \n",
       "Q 23.78125 -13.375 27.78125 -13.375 \n",
       "Q 36.625 -13.375 41.015625 -8.765625 \n",
       "Q 45.40625 -4.15625 45.40625 5.171875 \n",
       "L 45.40625 9.625 \n",
       "Q 42.625 4.78125 38.28125 2.390625 \n",
       "Q 33.9375 0 27.875 0 \n",
       "Q 17.828125 0 11.671875 7.65625 \n",
       "Q 5.515625 15.328125 5.515625 27.984375 \n",
       "Q 5.515625 40.671875 11.671875 48.328125 \n",
       "Q 17.828125 56 27.875 56 \n",
       "Q 33.9375 56 38.28125 53.609375 \n",
       "Q 42.625 51.21875 45.40625 46.390625 \n",
       "L 45.40625 54.6875 \n",
       "L 54.390625 54.6875 \n",
       "z\n",
       "\" id=\"DejaVuSans-103\"/>\n",
       "     </defs>\n",
       "     <use xlink:href=\"#DejaVuSans-102\"/>\n",
       "     <use x=\"35.205078\" xlink:href=\"#DejaVuSans-114\"/>\n",
       "     <use x=\"74.068359\" xlink:href=\"#DejaVuSans-111\"/>\n",
       "     <use x=\"135.25\" xlink:href=\"#DejaVuSans-103\"/>\n",
       "    </g>\n",
       "   </g>\n",
       "   <g id=\"text_2\">\n",
       "    <!-- 16.7% -->\n",
       "    <g transform=\"translate(174.008843 62.914957)scale(0.1 -0.1)\">\n",
       "     <defs>\n",
       "      <path d=\"M 12.40625 8.296875 \n",
       "L 28.515625 8.296875 \n",
       "L 28.515625 63.921875 \n",
       "L 10.984375 60.40625 \n",
       "L 10.984375 69.390625 \n",
       "L 28.421875 72.90625 \n",
       "L 38.28125 72.90625 \n",
       "L 38.28125 8.296875 \n",
       "L 54.390625 8.296875 \n",
       "L 54.390625 0 \n",
       "L 12.40625 0 \n",
       "z\n",
       "\" id=\"DejaVuSans-49\"/>\n",
       "      <path d=\"M 33.015625 40.375 \n",
       "Q 26.375 40.375 22.484375 35.828125 \n",
       "Q 18.609375 31.296875 18.609375 23.390625 \n",
       "Q 18.609375 15.53125 22.484375 10.953125 \n",
       "Q 26.375 6.390625 33.015625 6.390625 \n",
       "Q 39.65625 6.390625 43.53125 10.953125 \n",
       "Q 47.40625 15.53125 47.40625 23.390625 \n",
       "Q 47.40625 31.296875 43.53125 35.828125 \n",
       "Q 39.65625 40.375 33.015625 40.375 \n",
       "z\n",
       "M 52.59375 71.296875 \n",
       "L 52.59375 62.3125 \n",
       "Q 48.875 64.0625 45.09375 64.984375 \n",
       "Q 41.3125 65.921875 37.59375 65.921875 \n",
       "Q 27.828125 65.921875 22.671875 59.328125 \n",
       "Q 17.53125 52.734375 16.796875 39.40625 \n",
       "Q 19.671875 43.65625 24.015625 45.921875 \n",
       "Q 28.375 48.1875 33.59375 48.1875 \n",
       "Q 44.578125 48.1875 50.953125 41.515625 \n",
       "Q 57.328125 34.859375 57.328125 23.390625 \n",
       "Q 57.328125 12.15625 50.6875 5.359375 \n",
       "Q 44.046875 -1.421875 33.015625 -1.421875 \n",
       "Q 20.359375 -1.421875 13.671875 8.265625 \n",
       "Q 6.984375 17.96875 6.984375 36.375 \n",
       "Q 6.984375 53.65625 15.1875 63.9375 \n",
       "Q 23.390625 74.21875 37.203125 74.21875 \n",
       "Q 40.921875 74.21875 44.703125 73.484375 \n",
       "Q 48.484375 72.75 52.59375 71.296875 \n",
       "z\n",
       "\" id=\"DejaVuSans-54\"/>\n",
       "      <path d=\"M 10.6875 12.40625 \n",
       "L 21 12.40625 \n",
       "L 21 0 \n",
       "L 10.6875 0 \n",
       "z\n",
       "\" id=\"DejaVuSans-46\"/>\n",
       "      <path d=\"M 8.203125 72.90625 \n",
       "L 55.078125 72.90625 \n",
       "L 55.078125 68.703125 \n",
       "L 28.609375 0 \n",
       "L 18.3125 0 \n",
       "L 43.21875 64.59375 \n",
       "L 8.203125 64.59375 \n",
       "z\n",
       "\" id=\"DejaVuSans-55\"/>\n",
       "      <path d=\"M 72.703125 32.078125 \n",
       "Q 68.453125 32.078125 66.03125 28.46875 \n",
       "Q 63.625 24.859375 63.625 18.40625 \n",
       "Q 63.625 12.0625 66.03125 8.421875 \n",
       "Q 68.453125 4.78125 72.703125 4.78125 \n",
       "Q 76.859375 4.78125 79.265625 8.421875 \n",
       "Q 81.6875 12.0625 81.6875 18.40625 \n",
       "Q 81.6875 24.8125 79.265625 28.4375 \n",
       "Q 76.859375 32.078125 72.703125 32.078125 \n",
       "z\n",
       "M 72.703125 38.28125 \n",
       "Q 80.421875 38.28125 84.953125 32.90625 \n",
       "Q 89.5 27.546875 89.5 18.40625 \n",
       "Q 89.5 9.28125 84.9375 3.921875 \n",
       "Q 80.375 -1.421875 72.703125 -1.421875 \n",
       "Q 64.890625 -1.421875 60.34375 3.921875 \n",
       "Q 55.8125 9.28125 55.8125 18.40625 \n",
       "Q 55.8125 27.59375 60.375 32.9375 \n",
       "Q 64.9375 38.28125 72.703125 38.28125 \n",
       "z\n",
       "M 22.3125 68.015625 \n",
       "Q 18.109375 68.015625 15.6875 64.375 \n",
       "Q 13.28125 60.75 13.28125 54.390625 \n",
       "Q 13.28125 47.953125 15.671875 44.328125 \n",
       "Q 18.0625 40.71875 22.3125 40.71875 \n",
       "Q 26.5625 40.71875 28.96875 44.328125 \n",
       "Q 31.390625 47.953125 31.390625 54.390625 \n",
       "Q 31.390625 60.6875 28.953125 64.34375 \n",
       "Q 26.515625 68.015625 22.3125 68.015625 \n",
       "z\n",
       "M 66.40625 74.21875 \n",
       "L 74.21875 74.21875 \n",
       "L 28.609375 -1.421875 \n",
       "L 20.796875 -1.421875 \n",
       "z\n",
       "M 22.3125 74.21875 \n",
       "Q 30.03125 74.21875 34.609375 68.875 \n",
       "Q 39.203125 63.53125 39.203125 54.390625 \n",
       "Q 39.203125 45.171875 34.640625 39.84375 \n",
       "Q 30.078125 34.515625 22.3125 34.515625 \n",
       "Q 14.546875 34.515625 10.03125 39.859375 \n",
       "Q 5.515625 45.21875 5.515625 54.390625 \n",
       "Q 5.515625 63.484375 10.046875 68.84375 \n",
       "Q 14.59375 74.21875 22.3125 74.21875 \n",
       "z\n",
       "\" id=\"DejaVuSans-37\"/>\n",
       "     </defs>\n",
       "     <use xlink:href=\"#DejaVuSans-49\"/>\n",
       "     <use x=\"63.623047\" xlink:href=\"#DejaVuSans-54\"/>\n",
       "     <use x=\"127.246094\" xlink:href=\"#DejaVuSans-46\"/>\n",
       "     <use x=\"159.033203\" xlink:href=\"#DejaVuSans-55\"/>\n",
       "     <use x=\"222.65625\" xlink:href=\"#DejaVuSans-37\"/>\n",
       "    </g>\n",
       "   </g>\n",
       "   <g id=\"text_3\">\n",
       "    <!-- hogs -->\n",
       "    <g transform=\"translate(54.146187 62.024231)scale(0.1 -0.1)\">\n",
       "     <defs>\n",
       "      <path d=\"M 54.890625 33.015625 \n",
       "L 54.890625 0 \n",
       "L 45.90625 0 \n",
       "L 45.90625 32.71875 \n",
       "Q 45.90625 40.484375 42.875 44.328125 \n",
       "Q 39.84375 48.1875 33.796875 48.1875 \n",
       "Q 26.515625 48.1875 22.3125 43.546875 \n",
       "Q 18.109375 38.921875 18.109375 30.90625 \n",
       "L 18.109375 0 \n",
       "L 9.078125 0 \n",
       "L 9.078125 75.984375 \n",
       "L 18.109375 75.984375 \n",
       "L 18.109375 46.1875 \n",
       "Q 21.34375 51.125 25.703125 53.5625 \n",
       "Q 30.078125 56 35.796875 56 \n",
       "Q 45.21875 56 50.046875 50.171875 \n",
       "Q 54.890625 44.34375 54.890625 33.015625 \n",
       "z\n",
       "\" id=\"DejaVuSans-104\"/>\n",
       "      <path d=\"M 44.28125 53.078125 \n",
       "L 44.28125 44.578125 \n",
       "Q 40.484375 46.53125 36.375 47.5 \n",
       "Q 32.28125 48.484375 27.875 48.484375 \n",
       "Q 21.1875 48.484375 17.84375 46.4375 \n",
       "Q 14.5 44.390625 14.5 40.28125 \n",
       "Q 14.5 37.15625 16.890625 35.375 \n",
       "Q 19.28125 33.59375 26.515625 31.984375 \n",
       "L 29.59375 31.296875 \n",
       "Q 39.15625 29.25 43.1875 25.515625 \n",
       "Q 47.21875 21.78125 47.21875 15.09375 \n",
       "Q 47.21875 7.46875 41.1875 3.015625 \n",
       "Q 35.15625 -1.421875 24.609375 -1.421875 \n",
       "Q 20.21875 -1.421875 15.453125 -0.5625 \n",
       "Q 10.6875 0.296875 5.421875 2 \n",
       "L 5.421875 11.28125 \n",
       "Q 10.40625 8.6875 15.234375 7.390625 \n",
       "Q 20.0625 6.109375 24.8125 6.109375 \n",
       "Q 31.15625 6.109375 34.5625 8.28125 \n",
       "Q 37.984375 10.453125 37.984375 14.40625 \n",
       "Q 37.984375 18.0625 35.515625 20.015625 \n",
       "Q 33.0625 21.96875 24.703125 23.78125 \n",
       "L 21.578125 24.515625 \n",
       "Q 13.234375 26.265625 9.515625 29.90625 \n",
       "Q 5.8125 33.546875 5.8125 39.890625 \n",
       "Q 5.8125 47.609375 11.28125 51.796875 \n",
       "Q 16.75 56 26.8125 56 \n",
       "Q 31.78125 56 36.171875 55.265625 \n",
       "Q 40.578125 54.546875 44.28125 53.078125 \n",
       "z\n",
       "\" id=\"DejaVuSans-115\"/>\n",
       "     </defs>\n",
       "     <use xlink:href=\"#DejaVuSans-104\"/>\n",
       "     <use x=\"63.378906\" xlink:href=\"#DejaVuSans-111\"/>\n",
       "     <use x=\"124.560547\" xlink:href=\"#DejaVuSans-103\"/>\n",
       "     <use x=\"188.037109\" xlink:href=\"#DejaVuSans-115\"/>\n",
       "    </g>\n",
       "   </g>\n",
       "   <g id=\"text_4\">\n",
       "    <!-- 22.2% -->\n",
       "    <g transform=\"translate(104.589614 86.453627)scale(0.1 -0.1)\">\n",
       "     <defs>\n",
       "      <path d=\"M 19.1875 8.296875 \n",
       "L 53.609375 8.296875 \n",
       "L 53.609375 0 \n",
       "L 7.328125 0 \n",
       "L 7.328125 8.296875 \n",
       "Q 12.9375 14.109375 22.625 23.890625 \n",
       "Q 32.328125 33.6875 34.8125 36.53125 \n",
       "Q 39.546875 41.84375 41.421875 45.53125 \n",
       "Q 43.3125 49.21875 43.3125 52.78125 \n",
       "Q 43.3125 58.59375 39.234375 62.25 \n",
       "Q 35.15625 65.921875 28.609375 65.921875 \n",
       "Q 23.96875 65.921875 18.8125 64.3125 \n",
       "Q 13.671875 62.703125 7.8125 59.421875 \n",
       "L 7.8125 69.390625 \n",
       "Q 13.765625 71.78125 18.9375 73 \n",
       "Q 24.125 74.21875 28.421875 74.21875 \n",
       "Q 39.75 74.21875 46.484375 68.546875 \n",
       "Q 53.21875 62.890625 53.21875 53.421875 \n",
       "Q 53.21875 48.921875 51.53125 44.890625 \n",
       "Q 49.859375 40.875 45.40625 35.40625 \n",
       "Q 44.1875 33.984375 37.640625 27.21875 \n",
       "Q 31.109375 20.453125 19.1875 8.296875 \n",
       "z\n",
       "\" id=\"DejaVuSans-50\"/>\n",
       "     </defs>\n",
       "     <use xlink:href=\"#DejaVuSans-50\"/>\n",
       "     <use x=\"63.623047\" xlink:href=\"#DejaVuSans-50\"/>\n",
       "     <use x=\"127.246094\" xlink:href=\"#DejaVuSans-46\"/>\n",
       "     <use x=\"159.033203\" xlink:href=\"#DejaVuSans-50\"/>\n",
       "     <use x=\"222.65625\" xlink:href=\"#DejaVuSans-37\"/>\n",
       "    </g>\n",
       "   </g>\n",
       "   <g id=\"text_5\">\n",
       "    <!-- dogs -->\n",
       "    <g transform=\"translate(198.376682 226.511123)scale(0.1 -0.1)\">\n",
       "     <defs>\n",
       "      <path d=\"M 45.40625 46.390625 \n",
       "L 45.40625 75.984375 \n",
       "L 54.390625 75.984375 \n",
       "L 54.390625 0 \n",
       "L 45.40625 0 \n",
       "L 45.40625 8.203125 \n",
       "Q 42.578125 3.328125 38.25 0.953125 \n",
       "Q 33.9375 -1.421875 27.875 -1.421875 \n",
       "Q 17.96875 -1.421875 11.734375 6.484375 \n",
       "Q 5.515625 14.40625 5.515625 27.296875 \n",
       "Q 5.515625 40.1875 11.734375 48.09375 \n",
       "Q 17.96875 56 27.875 56 \n",
       "Q 33.9375 56 38.25 53.625 \n",
       "Q 42.578125 51.265625 45.40625 46.390625 \n",
       "z\n",
       "M 14.796875 27.296875 \n",
       "Q 14.796875 17.390625 18.875 11.75 \n",
       "Q 22.953125 6.109375 30.078125 6.109375 \n",
       "Q 37.203125 6.109375 41.296875 11.75 \n",
       "Q 45.40625 17.390625 45.40625 27.296875 \n",
       "Q 45.40625 37.203125 41.296875 42.84375 \n",
       "Q 37.203125 48.484375 30.078125 48.484375 \n",
       "Q 22.953125 48.484375 18.875 42.84375 \n",
       "Q 14.796875 37.203125 14.796875 27.296875 \n",
       "z\n",
       "\" id=\"DejaVuSans-100\"/>\n",
       "     </defs>\n",
       "     <use xlink:href=\"#DejaVuSans-100\"/>\n",
       "     <use x=\"63.476562\" xlink:href=\"#DejaVuSans-111\"/>\n",
       "     <use x=\"124.658203\" xlink:href=\"#DejaVuSans-103\"/>\n",
       "     <use x=\"188.134766\" xlink:href=\"#DejaVuSans-115\"/>\n",
       "    </g>\n",
       "   </g>\n",
       "   <g id=\"text_6\">\n",
       "    <!-- 50.0% -->\n",
       "    <g transform=\"translate(174.008846 178.394604)scale(0.1 -0.1)\">\n",
       "     <defs>\n",
       "      <path d=\"M 10.796875 72.90625 \n",
       "L 49.515625 72.90625 \n",
       "L 49.515625 64.59375 \n",
       "L 19.828125 64.59375 \n",
       "L 19.828125 46.734375 \n",
       "Q 21.96875 47.46875 24.109375 47.828125 \n",
       "Q 26.265625 48.1875 28.421875 48.1875 \n",
       "Q 40.625 48.1875 47.75 41.5 \n",
       "Q 54.890625 34.8125 54.890625 23.390625 \n",
       "Q 54.890625 11.625 47.5625 5.09375 \n",
       "Q 40.234375 -1.421875 26.90625 -1.421875 \n",
       "Q 22.3125 -1.421875 17.546875 -0.640625 \n",
       "Q 12.796875 0.140625 7.71875 1.703125 \n",
       "L 7.71875 11.625 \n",
       "Q 12.109375 9.234375 16.796875 8.0625 \n",
       "Q 21.484375 6.890625 26.703125 6.890625 \n",
       "Q 35.15625 6.890625 40.078125 11.328125 \n",
       "Q 45.015625 15.765625 45.015625 23.390625 \n",
       "Q 45.015625 31 40.078125 35.4375 \n",
       "Q 35.15625 39.890625 26.703125 39.890625 \n",
       "Q 22.75 39.890625 18.8125 39.015625 \n",
       "Q 14.890625 38.140625 10.796875 36.28125 \n",
       "z\n",
       "\" id=\"DejaVuSans-53\"/>\n",
       "      <path d=\"M 31.78125 66.40625 \n",
       "Q 24.171875 66.40625 20.328125 58.90625 \n",
       "Q 16.5 51.421875 16.5 36.375 \n",
       "Q 16.5 21.390625 20.328125 13.890625 \n",
       "Q 24.171875 6.390625 31.78125 6.390625 \n",
       "Q 39.453125 6.390625 43.28125 13.890625 \n",
       "Q 47.125 21.390625 47.125 36.375 \n",
       "Q 47.125 51.421875 43.28125 58.90625 \n",
       "Q 39.453125 66.40625 31.78125 66.40625 \n",
       "z\n",
       "M 31.78125 74.21875 \n",
       "Q 44.046875 74.21875 50.515625 64.515625 \n",
       "Q 56.984375 54.828125 56.984375 36.375 \n",
       "Q 56.984375 17.96875 50.515625 8.265625 \n",
       "Q 44.046875 -1.421875 31.78125 -1.421875 \n",
       "Q 19.53125 -1.421875 13.0625 8.265625 \n",
       "Q 6.59375 17.96875 6.59375 36.375 \n",
       "Q 6.59375 54.828125 13.0625 64.515625 \n",
       "Q 19.53125 74.21875 31.78125 74.21875 \n",
       "z\n",
       "\" id=\"DejaVuSans-48\"/>\n",
       "     </defs>\n",
       "     <use xlink:href=\"#DejaVuSans-53\"/>\n",
       "     <use x=\"63.623047\" xlink:href=\"#DejaVuSans-48\"/>\n",
       "     <use x=\"127.246094\" xlink:href=\"#DejaVuSans-46\"/>\n",
       "     <use x=\"159.033203\" xlink:href=\"#DejaVuSans-48\"/>\n",
       "     <use x=\"222.65625\" xlink:href=\"#DejaVuSans-37\"/>\n",
       "    </g>\n",
       "   </g>\n",
       "   <g id=\"text_7\">\n",
       "    <!-- logs -->\n",
       "    <g transform=\"translate(272.799852 66.910103)scale(0.1 -0.1)\">\n",
       "     <defs>\n",
       "      <path d=\"M 9.421875 75.984375 \n",
       "L 18.40625 75.984375 \n",
       "L 18.40625 0 \n",
       "L 9.421875 0 \n",
       "z\n",
       "\" id=\"DejaVuSans-108\"/>\n",
       "     </defs>\n",
       "     <use xlink:href=\"#DejaVuSans-108\"/>\n",
       "     <use x=\"27.783203\" xlink:href=\"#DejaVuSans-111\"/>\n",
       "     <use x=\"88.964844\" xlink:href=\"#DejaVuSans-103\"/>\n",
       "     <use x=\"152.441406\" xlink:href=\"#DejaVuSans-115\"/>\n",
       "    </g>\n",
       "   </g>\n",
       "   <g id=\"text_8\">\n",
       "    <!-- 11.1% -->\n",
       "    <g transform=\"translate(214.603302 91.339502)scale(0.1 -0.1)\">\n",
       "     <use xlink:href=\"#DejaVuSans-49\"/>\n",
       "     <use x=\"63.623047\" xlink:href=\"#DejaVuSans-49\"/>\n",
       "     <use x=\"127.246094\" xlink:href=\"#DejaVuSans-46\"/>\n",
       "     <use x=\"159.033203\" xlink:href=\"#DejaVuSans-49\"/>\n",
       "     <use x=\"222.65625\" xlink:href=\"#DejaVuSans-37\"/>\n",
       "    </g>\n",
       "   </g>\n",
       "  </g>\n",
       " </g>\n",
       "</svg>\n"
      ],
      "text/plain": [
       "<Figure size 432x288 with 1 Axes>"
      ]
     },
     "metadata": {},
     "output_type": "display_data"
    }
   ],
   "source": [
    "%matplotlib inline\n",
    "%config InlineBackend.figure_format = 'svg'\n",
    "\n",
    "# 导入绘图包\n",
    "import matplotlib.pyplot as plt\n",
    "\n",
    "# 设定数据标签\n",
    "labels = 'frog', 'hogs', 'dogs', 'logs'\n",
    "# 设定数据\n",
    "datas = 15, 20, 45, 10\n",
    "# 设定颜色\n",
    "colors = 'yellowgreen', 'gold', 'lightskyblue', 'lightcoral'\n",
    "explode = 0, 0.1, 0, 0\n",
    "plt.pie(datas, explode=explode, labels=labels, colors=colors,\n",
    "        autopct='%1.1f%%', shadow=True, startangle=50)\n",
    "plt.axis('equal')\n",
    "plt.show()"
   ]
  },
  {
   "cell_type": "markdown",
   "metadata": {},
   "source": [
    "### 看不懂"
   ]
  },
  {
   "cell_type": "code",
   "execution_count": 15,
   "metadata": {},
   "outputs": [
    {
     "data": {
      "image/svg+xml": [
       "<?xml version=\"1.0\" encoding=\"utf-8\" standalone=\"no\"?>\n",
       "<!DOCTYPE svg PUBLIC \"-//W3C//DTD SVG 1.1//EN\"\n",
       "  \"http://www.w3.org/Graphics/SVG/1.1/DTD/svg11.dtd\">\n",
       "<!-- Created with matplotlib (https://matplotlib.org/) -->\n",
       "<svg height=\"236.437996pt\" version=\"1.1\" viewBox=\"0 0 349.2 236.437996\" width=\"349.2pt\" xmlns=\"http://www.w3.org/2000/svg\" xmlns:xlink=\"http://www.w3.org/1999/xlink\">\n",
       " <metadata>\n",
       "  <rdf:RDF xmlns:cc=\"http://creativecommons.org/ns#\" xmlns:dc=\"http://purl.org/dc/elements/1.1/\" xmlns:rdf=\"http://www.w3.org/1999/02/22-rdf-syntax-ns#\">\n",
       "   <cc:Work>\n",
       "    <dc:type rdf:resource=\"http://purl.org/dc/dcmitype/StillImage\"/>\n",
       "    <dc:date>2021-01-06T13:11:30.419640</dc:date>\n",
       "    <dc:format>image/svg+xml</dc:format>\n",
       "    <dc:creator>\n",
       "     <cc:Agent>\n",
       "      <dc:title>Matplotlib v3.3.3, https://matplotlib.org/</dc:title>\n",
       "     </cc:Agent>\n",
       "    </dc:creator>\n",
       "   </cc:Work>\n",
       "  </rdf:RDF>\n",
       " </metadata>\n",
       " <defs>\n",
       "  <style type=\"text/css\">*{stroke-linecap:butt;stroke-linejoin:round;}</style>\n",
       " </defs>\n",
       " <g id=\"figure_1\">\n",
       "  <g id=\"patch_1\">\n",
       "   <path d=\"M 0 236.437996 \n",
       "L 349.2 236.437996 \n",
       "L 349.2 0 \n",
       "L 0 0 \n",
       "z\n",
       "\" style=\"fill:none;\"/>\n",
       "  </g>\n",
       "  <g id=\"axes_1\">\n",
       "   <g id=\"patch_2\">\n",
       "    <path d=\"M 237.592733 46.392769 \n",
       "C 228.97623 39.162665 219.160719 33.495677 208.591013 29.648619 \n",
       "C 198.021307 25.801561 186.85952 23.833436 175.611474 23.833436 \n",
       "L 175.611475 120.259156 \n",
       "L 237.592733 46.392769 \n",
       "z\n",
       "\" style=\"fill:#2e3e0f;opacity:0.5;stroke:#2e3e0f;stroke-linejoin:miter;\"/>\n",
       "   </g>\n",
       "   <g id=\"patch_3\">\n",
       "    <path d=\"M 167.260762 19.012151 \n",
       "C 150.335772 19.012151 133.705371 23.468254 119.047901 31.930749 \n",
       "C 104.39043 40.393244 92.216132 52.567543 83.753637 67.225014 \n",
       "C 75.291143 81.882485 70.835041 98.512886 70.835042 115.437876 \n",
       "C 70.835043 132.362865 75.291147 148.993266 83.753642 163.650736 \n",
       "L 167.260762 115.437871 \n",
       "L 167.260762 19.012151 \n",
       "z\n",
       "\" style=\"fill:#4c4000;opacity:0.5;stroke:#4c4000;stroke-linejoin:miter;\"/>\n",
       "   </g>\n",
       "   <g id=\"patch_4\">\n",
       "    <path d=\"M 92.104355 168.472022 \n",
       "C 100.566851 183.129492 112.74115 195.30379 127.398622 203.766283 \n",
       "C 142.056093 212.228777 158.686495 216.684878 175.611484 216.684876 \n",
       "C 192.536474 216.684875 209.166874 212.22877 223.824344 203.766274 \n",
       "C 238.481814 195.303778 250.656111 183.129478 259.118604 168.472006 \n",
       "L 175.611475 120.259156 \n",
       "L 92.104355 168.472022 \n",
       "z\n",
       "\" style=\"fill:#283e4b;opacity:0.5;stroke:#283e4b;stroke-linejoin:miter;\"/>\n",
       "   </g>\n",
       "   <g id=\"patch_5\">\n",
       "    <path d=\"M 259.118604 168.472006 \n",
       "C 270.450876 148.843929 274.50793 125.835216 270.572269 103.514993 \n",
       "C 266.636608 81.19477 254.954776 60.96125 237.592722 46.392761 \n",
       "L 175.611475 120.259156 \n",
       "L 259.118604 168.472006 \n",
       "z\n",
       "\" style=\"fill:#482626;opacity:0.5;stroke:#482626;stroke-linejoin:miter;\"/>\n",
       "   </g>\n",
       "   <g id=\"patch_6\">\n",
       "    <path d=\"M 239.521247 44.464255 \n",
       "C 230.904744 37.234151 221.089233 31.567163 210.519527 27.720104 \n",
       "C 199.949822 23.873046 188.788034 21.904922 177.539989 21.904922 \n",
       "L 177.539989 118.330642 \n",
       "L 239.521247 44.464255 \n",
       "z\n",
       "\" style=\"fill:#9acd32;\"/>\n",
       "   </g>\n",
       "   <g id=\"patch_7\">\n",
       "    <path d=\"M 169.189276 17.083636 \n",
       "C 152.264287 17.083636 135.633886 21.539739 120.976415 30.002234 \n",
       "C 106.318944 38.464729 94.144646 50.639028 85.682152 65.296499 \n",
       "C 77.219658 79.953971 72.763556 96.584372 72.763557 113.509361 \n",
       "C 72.763558 130.434351 77.219661 147.064752 85.682157 161.722222 \n",
       "L 169.189277 113.509356 \n",
       "L 169.189276 17.083636 \n",
       "z\n",
       "\" style=\"fill:#ffd700;\"/>\n",
       "   </g>\n",
       "   <g id=\"patch_8\">\n",
       "    <path d=\"M 94.032869 166.543508 \n",
       "C 102.495365 181.200978 114.669665 193.375276 129.327136 201.837769 \n",
       "C 143.984608 210.300263 160.615009 214.756364 177.539999 214.756362 \n",
       "C 194.464988 214.75636 211.095389 210.300256 225.752859 201.83776 \n",
       "C 240.410329 193.375263 252.584626 181.200963 261.047118 166.543491 \n",
       "L 177.539989 118.330642 \n",
       "L 94.032869 166.543508 \n",
       "z\n",
       "\" style=\"fill:#87cefa;\"/>\n",
       "   </g>\n",
       "   <g id=\"patch_9\">\n",
       "    <path d=\"M 261.047118 166.543491 \n",
       "C 272.37939 146.915414 276.436444 123.906702 272.500783 101.586479 \n",
       "C 268.565123 79.266255 256.883291 59.032735 239.521237 44.464246 \n",
       "L 177.539989 118.330642 \n",
       "L 261.047118 166.543491 \n",
       "z\n",
       "\" style=\"fill:#f08080;\"/>\n",
       "   </g>\n",
       "   <g id=\"matplotlib.axis_1\"/>\n",
       "   <g id=\"matplotlib.axis_2\"/>\n",
       "   <g id=\"text_1\">\n",
       "    <!-- bug1 -->\n",
       "    <g transform=\"translate(213.817481 21.418426)scale(0.1 -0.1)\">\n",
       "     <defs>\n",
       "      <path d=\"M 48.6875 27.296875 \n",
       "Q 48.6875 37.203125 44.609375 42.84375 \n",
       "Q 40.53125 48.484375 33.40625 48.484375 \n",
       "Q 26.265625 48.484375 22.1875 42.84375 \n",
       "Q 18.109375 37.203125 18.109375 27.296875 \n",
       "Q 18.109375 17.390625 22.1875 11.75 \n",
       "Q 26.265625 6.109375 33.40625 6.109375 \n",
       "Q 40.53125 6.109375 44.609375 11.75 \n",
       "Q 48.6875 17.390625 48.6875 27.296875 \n",
       "z\n",
       "M 18.109375 46.390625 \n",
       "Q 20.953125 51.265625 25.265625 53.625 \n",
       "Q 29.59375 56 35.59375 56 \n",
       "Q 45.5625 56 51.78125 48.09375 \n",
       "Q 58.015625 40.1875 58.015625 27.296875 \n",
       "Q 58.015625 14.40625 51.78125 6.484375 \n",
       "Q 45.5625 -1.421875 35.59375 -1.421875 \n",
       "Q 29.59375 -1.421875 25.265625 0.953125 \n",
       "Q 20.953125 3.328125 18.109375 8.203125 \n",
       "L 18.109375 0 \n",
       "L 9.078125 0 \n",
       "L 9.078125 75.984375 \n",
       "L 18.109375 75.984375 \n",
       "z\n",
       "\" id=\"DejaVuSans-98\"/>\n",
       "      <path d=\"M 8.5 21.578125 \n",
       "L 8.5 54.6875 \n",
       "L 17.484375 54.6875 \n",
       "L 17.484375 21.921875 \n",
       "Q 17.484375 14.15625 20.5 10.265625 \n",
       "Q 23.53125 6.390625 29.59375 6.390625 \n",
       "Q 36.859375 6.390625 41.078125 11.03125 \n",
       "Q 45.3125 15.671875 45.3125 23.6875 \n",
       "L 45.3125 54.6875 \n",
       "L 54.296875 54.6875 \n",
       "L 54.296875 0 \n",
       "L 45.3125 0 \n",
       "L 45.3125 8.40625 \n",
       "Q 42.046875 3.421875 37.71875 1 \n",
       "Q 33.40625 -1.421875 27.6875 -1.421875 \n",
       "Q 18.265625 -1.421875 13.375 4.4375 \n",
       "Q 8.5 10.296875 8.5 21.578125 \n",
       "z\n",
       "M 31.109375 56 \n",
       "z\n",
       "\" id=\"DejaVuSans-117\"/>\n",
       "      <path d=\"M 45.40625 27.984375 \n",
       "Q 45.40625 37.75 41.375 43.109375 \n",
       "Q 37.359375 48.484375 30.078125 48.484375 \n",
       "Q 22.859375 48.484375 18.828125 43.109375 \n",
       "Q 14.796875 37.75 14.796875 27.984375 \n",
       "Q 14.796875 18.265625 18.828125 12.890625 \n",
       "Q 22.859375 7.515625 30.078125 7.515625 \n",
       "Q 37.359375 7.515625 41.375 12.890625 \n",
       "Q 45.40625 18.265625 45.40625 27.984375 \n",
       "z\n",
       "M 54.390625 6.78125 \n",
       "Q 54.390625 -7.171875 48.1875 -13.984375 \n",
       "Q 42 -20.796875 29.203125 -20.796875 \n",
       "Q 24.46875 -20.796875 20.265625 -20.09375 \n",
       "Q 16.0625 -19.390625 12.109375 -17.921875 \n",
       "L 12.109375 -9.1875 \n",
       "Q 16.0625 -11.328125 19.921875 -12.34375 \n",
       "Q 23.78125 -13.375 27.78125 -13.375 \n",
       "Q 36.625 -13.375 41.015625 -8.765625 \n",
       "Q 45.40625 -4.15625 45.40625 5.171875 \n",
       "L 45.40625 9.625 \n",
       "Q 42.625 4.78125 38.28125 2.390625 \n",
       "Q 33.9375 0 27.875 0 \n",
       "Q 17.828125 0 11.671875 7.65625 \n",
       "Q 5.515625 15.328125 5.515625 27.984375 \n",
       "Q 5.515625 40.671875 11.671875 48.328125 \n",
       "Q 17.828125 56 27.875 56 \n",
       "Q 33.9375 56 38.28125 53.609375 \n",
       "Q 42.625 51.21875 45.40625 46.390625 \n",
       "L 45.40625 54.6875 \n",
       "L 54.390625 54.6875 \n",
       "z\n",
       "\" id=\"DejaVuSans-103\"/>\n",
       "      <path d=\"M 12.40625 8.296875 \n",
       "L 28.515625 8.296875 \n",
       "L 28.515625 63.921875 \n",
       "L 10.984375 60.40625 \n",
       "L 10.984375 69.390625 \n",
       "L 28.421875 72.90625 \n",
       "L 38.28125 72.90625 \n",
       "L 38.28125 8.296875 \n",
       "L 54.390625 8.296875 \n",
       "L 54.390625 0 \n",
       "L 12.40625 0 \n",
       "z\n",
       "\" id=\"DejaVuSans-49\"/>\n",
       "     </defs>\n",
       "     <use xlink:href=\"#DejaVuSans-98\"/>\n",
       "     <use x=\"63.476562\" xlink:href=\"#DejaVuSans-117\"/>\n",
       "     <use x=\"126.855469\" xlink:href=\"#DejaVuSans-103\"/>\n",
       "     <use x=\"190.332031\" xlink:href=\"#DejaVuSans-49\"/>\n",
       "    </g>\n",
       "   </g>\n",
       "   <g id=\"text_2\">\n",
       "    <!-- 11.1% -->\n",
       "    <g transform=\"translate(181.444118 66.723694)scale(0.1 -0.1)\">\n",
       "     <defs>\n",
       "      <path d=\"M 10.6875 12.40625 \n",
       "L 21 12.40625 \n",
       "L 21 0 \n",
       "L 10.6875 0 \n",
       "z\n",
       "\" id=\"DejaVuSans-46\"/>\n",
       "      <path d=\"M 72.703125 32.078125 \n",
       "Q 68.453125 32.078125 66.03125 28.46875 \n",
       "Q 63.625 24.859375 63.625 18.40625 \n",
       "Q 63.625 12.0625 66.03125 8.421875 \n",
       "Q 68.453125 4.78125 72.703125 4.78125 \n",
       "Q 76.859375 4.78125 79.265625 8.421875 \n",
       "Q 81.6875 12.0625 81.6875 18.40625 \n",
       "Q 81.6875 24.8125 79.265625 28.4375 \n",
       "Q 76.859375 32.078125 72.703125 32.078125 \n",
       "z\n",
       "M 72.703125 38.28125 \n",
       "Q 80.421875 38.28125 84.953125 32.90625 \n",
       "Q 89.5 27.546875 89.5 18.40625 \n",
       "Q 89.5 9.28125 84.9375 3.921875 \n",
       "Q 80.375 -1.421875 72.703125 -1.421875 \n",
       "Q 64.890625 -1.421875 60.34375 3.921875 \n",
       "Q 55.8125 9.28125 55.8125 18.40625 \n",
       "Q 55.8125 27.59375 60.375 32.9375 \n",
       "Q 64.9375 38.28125 72.703125 38.28125 \n",
       "z\n",
       "M 22.3125 68.015625 \n",
       "Q 18.109375 68.015625 15.6875 64.375 \n",
       "Q 13.28125 60.75 13.28125 54.390625 \n",
       "Q 13.28125 47.953125 15.671875 44.328125 \n",
       "Q 18.0625 40.71875 22.3125 40.71875 \n",
       "Q 26.5625 40.71875 28.96875 44.328125 \n",
       "Q 31.390625 47.953125 31.390625 54.390625 \n",
       "Q 31.390625 60.6875 28.953125 64.34375 \n",
       "Q 26.515625 68.015625 22.3125 68.015625 \n",
       "z\n",
       "M 66.40625 74.21875 \n",
       "L 74.21875 74.21875 \n",
       "L 28.609375 -1.421875 \n",
       "L 20.796875 -1.421875 \n",
       "z\n",
       "M 22.3125 74.21875 \n",
       "Q 30.03125 74.21875 34.609375 68.875 \n",
       "Q 39.203125 63.53125 39.203125 54.390625 \n",
       "Q 39.203125 45.171875 34.640625 39.84375 \n",
       "Q 30.078125 34.515625 22.3125 34.515625 \n",
       "Q 14.546875 34.515625 10.03125 39.859375 \n",
       "Q 5.515625 45.21875 5.515625 54.390625 \n",
       "Q 5.515625 63.484375 10.046875 68.84375 \n",
       "Q 14.59375 74.21875 22.3125 74.21875 \n",
       "z\n",
       "\" id=\"DejaVuSans-37\"/>\n",
       "     </defs>\n",
       "     <use xlink:href=\"#DejaVuSans-49\"/>\n",
       "     <use x=\"63.623047\" xlink:href=\"#DejaVuSans-49\"/>\n",
       "     <use x=\"127.246094\" xlink:href=\"#DejaVuSans-46\"/>\n",
       "     <use x=\"159.033203\" xlink:href=\"#DejaVuSans-49\"/>\n",
       "     <use x=\"222.65625\" xlink:href=\"#DejaVuSans-37\"/>\n",
       "    </g>\n",
       "   </g>\n",
       "   <g id=\"text_3\">\n",
       "    <!-- bug2 -->\n",
       "    <g transform=\"translate(51.934564 63.234589)scale(0.1 -0.1)\">\n",
       "     <defs>\n",
       "      <path d=\"M 19.1875 8.296875 \n",
       "L 53.609375 8.296875 \n",
       "L 53.609375 0 \n",
       "L 7.328125 0 \n",
       "L 7.328125 8.296875 \n",
       "Q 12.9375 14.109375 22.625 23.890625 \n",
       "Q 32.328125 33.6875 34.8125 36.53125 \n",
       "Q 39.546875 41.84375 41.421875 45.53125 \n",
       "Q 43.3125 49.21875 43.3125 52.78125 \n",
       "Q 43.3125 58.59375 39.234375 62.25 \n",
       "Q 35.15625 65.921875 28.609375 65.921875 \n",
       "Q 23.96875 65.921875 18.8125 64.3125 \n",
       "Q 13.671875 62.703125 7.8125 59.421875 \n",
       "L 7.8125 69.390625 \n",
       "Q 13.765625 71.78125 18.9375 73 \n",
       "Q 24.125 74.21875 28.421875 74.21875 \n",
       "Q 39.75 74.21875 46.484375 68.546875 \n",
       "Q 53.21875 62.890625 53.21875 53.421875 \n",
       "Q 53.21875 48.921875 51.53125 44.890625 \n",
       "Q 49.859375 40.875 45.40625 35.40625 \n",
       "Q 44.1875 33.984375 37.640625 27.21875 \n",
       "Q 31.109375 20.453125 19.1875 8.296875 \n",
       "z\n",
       "\" id=\"DejaVuSans-50\"/>\n",
       "     </defs>\n",
       "     <use xlink:href=\"#DejaVuSans-98\"/>\n",
       "     <use x=\"63.476562\" xlink:href=\"#DejaVuSans-117\"/>\n",
       "     <use x=\"126.855469\" xlink:href=\"#DejaVuSans-103\"/>\n",
       "     <use x=\"190.332031\" xlink:href=\"#DejaVuSans-50\"/>\n",
       "    </g>\n",
       "   </g>\n",
       "   <g id=\"text_4\">\n",
       "    <!-- 33.3% -->\n",
       "    <g transform=\"translate(103.201408 87.341017)scale(0.1 -0.1)\">\n",
       "     <defs>\n",
       "      <path d=\"M 40.578125 39.3125 \n",
       "Q 47.65625 37.796875 51.625 33 \n",
       "Q 55.609375 28.21875 55.609375 21.1875 \n",
       "Q 55.609375 10.40625 48.1875 4.484375 \n",
       "Q 40.765625 -1.421875 27.09375 -1.421875 \n",
       "Q 22.515625 -1.421875 17.65625 -0.515625 \n",
       "Q 12.796875 0.390625 7.625 2.203125 \n",
       "L 7.625 11.71875 \n",
       "Q 11.71875 9.328125 16.59375 8.109375 \n",
       "Q 21.484375 6.890625 26.8125 6.890625 \n",
       "Q 36.078125 6.890625 40.9375 10.546875 \n",
       "Q 45.796875 14.203125 45.796875 21.1875 \n",
       "Q 45.796875 27.640625 41.28125 31.265625 \n",
       "Q 36.765625 34.90625 28.71875 34.90625 \n",
       "L 20.21875 34.90625 \n",
       "L 20.21875 43.015625 \n",
       "L 29.109375 43.015625 \n",
       "Q 36.375 43.015625 40.234375 45.921875 \n",
       "Q 44.09375 48.828125 44.09375 54.296875 \n",
       "Q 44.09375 59.90625 40.109375 62.90625 \n",
       "Q 36.140625 65.921875 28.71875 65.921875 \n",
       "Q 24.65625 65.921875 20.015625 65.03125 \n",
       "Q 15.375 64.15625 9.8125 62.3125 \n",
       "L 9.8125 71.09375 \n",
       "Q 15.4375 72.65625 20.34375 73.4375 \n",
       "Q 25.25 74.21875 29.59375 74.21875 \n",
       "Q 40.828125 74.21875 47.359375 69.109375 \n",
       "Q 53.90625 64.015625 53.90625 55.328125 \n",
       "Q 53.90625 49.265625 50.4375 45.09375 \n",
       "Q 46.96875 40.921875 40.578125 39.3125 \n",
       "z\n",
       "\" id=\"DejaVuSans-51\"/>\n",
       "     </defs>\n",
       "     <use xlink:href=\"#DejaVuSans-51\"/>\n",
       "     <use x=\"63.623047\" xlink:href=\"#DejaVuSans-51\"/>\n",
       "     <use x=\"127.246094\" xlink:href=\"#DejaVuSans-46\"/>\n",
       "     <use x=\"159.033203\" xlink:href=\"#DejaVuSans-51\"/>\n",
       "     <use x=\"222.65625\" xlink:href=\"#DejaVuSans-37\"/>\n",
       "    </g>\n",
       "   </g>\n",
       "   <g id=\"text_5\">\n",
       "    <!-- bug3 -->\n",
       "    <g transform=\"translate(177.54 227.158309)scale(0.1 -0.1)\">\n",
       "     <use xlink:href=\"#DejaVuSans-98\"/>\n",
       "     <use x=\"63.476562\" xlink:href=\"#DejaVuSans-117\"/>\n",
       "     <use x=\"126.855469\" xlink:href=\"#DejaVuSans-103\"/>\n",
       "     <use x=\"190.332031\" xlink:href=\"#DejaVuSans-51\"/>\n",
       "    </g>\n",
       "   </g>\n",
       "   <g id=\"text_6\">\n",
       "    <!-- 33.3% -->\n",
       "    <g transform=\"translate(161.656401 178.945449)scale(0.1 -0.1)\">\n",
       "     <use xlink:href=\"#DejaVuSans-51\"/>\n",
       "     <use x=\"63.623047\" xlink:href=\"#DejaVuSans-51\"/>\n",
       "     <use x=\"127.246094\" xlink:href=\"#DejaVuSans-46\"/>\n",
       "     <use x=\"159.033203\" xlink:href=\"#DejaVuSans-51\"/>\n",
       "     <use x=\"222.65625\" xlink:href=\"#DejaVuSans-37\"/>\n",
       "    </g>\n",
       "   </g>\n",
       "   <g id=\"text_7\">\n",
       "    <!-- bug4 -->\n",
       "    <g transform=\"translate(281.996863 102.671437)scale(0.1 -0.1)\">\n",
       "     <defs>\n",
       "      <path d=\"M 37.796875 64.3125 \n",
       "L 12.890625 25.390625 \n",
       "L 37.796875 25.390625 \n",
       "z\n",
       "M 35.203125 72.90625 \n",
       "L 47.609375 72.90625 \n",
       "L 47.609375 25.390625 \n",
       "L 58.015625 25.390625 \n",
       "L 58.015625 17.1875 \n",
       "L 47.609375 17.1875 \n",
       "L 47.609375 0 \n",
       "L 37.796875 0 \n",
       "L 37.796875 17.1875 \n",
       "L 4.890625 17.1875 \n",
       "L 4.890625 26.703125 \n",
       "z\n",
       "\" id=\"DejaVuSans-52\"/>\n",
       "     </defs>\n",
       "     <use xlink:href=\"#DejaVuSans-98\"/>\n",
       "     <use x=\"63.476562\" xlink:href=\"#DejaVuSans-117\"/>\n",
       "     <use x=\"126.855469\" xlink:href=\"#DejaVuSans-103\"/>\n",
       "     <use x=\"190.332031\" xlink:href=\"#DejaVuSans-52\"/>\n",
       "    </g>\n",
       "   </g>\n",
       "   <g id=\"text_8\">\n",
       "    <!-- 22.2% -->\n",
       "    <g transform=\"translate(218.632872 111.043519)scale(0.1 -0.1)\">\n",
       "     <use xlink:href=\"#DejaVuSans-50\"/>\n",
       "     <use x=\"63.623047\" xlink:href=\"#DejaVuSans-50\"/>\n",
       "     <use x=\"127.246094\" xlink:href=\"#DejaVuSans-46\"/>\n",
       "     <use x=\"159.033203\" xlink:href=\"#DejaVuSans-50\"/>\n",
       "     <use x=\"222.65625\" xlink:href=\"#DejaVuSans-37\"/>\n",
       "    </g>\n",
       "   </g>\n",
       "  </g>\n",
       " </g>\n",
       "</svg>\n"
      ],
      "text/plain": [
       "<Figure size 432x288 with 1 Axes>"
      ]
     },
     "metadata": {},
     "output_type": "display_data"
    }
   ],
   "source": [
    "# 导入绘图包\n",
    "import matplotlib.pyplot as plt\n",
    "\n",
    "# 设定数据标签\n",
    "labels = 'bug1', 'bug2', 'bug3', 'bug4'\n",
    "# 设定数据\n",
    "datas = 10, 30, 30, 20\n",
    "# 设定颜色\n",
    "colors = 'yellowgreen', 'gold', 'lightskyblue', 'lightcoral'\n",
    "explode = 0, 0.1, 0, 0\n",
    "plt.pie(datas, explode=explode, labels=labels, colors=colors,\n",
    "        autopct='%1.1f%%', shadow=True, startangle=50)\n",
    "plt.axis('equal')\n",
    "plt.show()"
   ]
  },
  {
   "cell_type": "markdown",
   "metadata": {},
   "source": [
    "### 2.7.6 break 语句"
   ]
  },
  {
   "cell_type": "code",
   "execution_count": 22,
   "metadata": {},
   "outputs": [
    {
     "name": "stdout",
     "output_type": "stream",
     "text": [
      "Please type your name.\n"
     ]
    },
    {
     "name": "stdin",
     "output_type": "stream",
     "text": [
      " 宝宝\n"
     ]
    },
    {
     "name": "stdout",
     "output_type": "stream",
     "text": [
      "亲一个!\n"
     ]
    }
   ],
   "source": [
    "while True:\n",
    "    print('Please type your name.')\n",
    "    name = input()\n",
    "    if name == '宝宝':\n",
    "        break\n",
    "print('亲一个!')"
   ]
  },
  {
   "cell_type": "markdown",
   "metadata": {},
   "source": [
    "### 2.7.7 continue 语句"
   ]
  },
  {
   "cell_type": "code",
   "execution_count": 24,
   "metadata": {},
   "outputs": [
    {
     "name": "stdout",
     "output_type": "stream",
     "text": [
      "Who are you?\n"
     ]
    },
    {
     "name": "stdin",
     "output_type": "stream",
     "text": [
      " 宝宝\n"
     ]
    },
    {
     "name": "stdout",
     "output_type": "stream",
     "text": [
      "Hello,宝宝. Who is your favorite person?\n"
     ]
    },
    {
     "name": "stdin",
     "output_type": "stream",
     "text": [
      " 最爱宝宝\n"
     ]
    },
    {
     "name": "stdout",
     "output_type": "stream",
     "text": [
      "Access granted.\n"
     ]
    }
   ],
   "source": [
    "while True:\n",
    "    print('Who are you?')\n",
    "    name = input()\n",
    "    if name != '宝宝':\n",
    "        continue\n",
    "    print('Hello,宝宝. Who is your favorite person?')\n",
    "    password = input()\n",
    "    if password == '最爱宝宝':\n",
    "        break\n",
    "print('Access granted.')"
   ]
  },
  {
   "cell_type": "markdown",
   "metadata": {},
   "source": [
    "### 2.7.8 for循环和range（）函数"
   ]
  },
  {
   "cell_type": "code",
   "execution_count": 26,
   "metadata": {},
   "outputs": [
    {
     "name": "stdout",
     "output_type": "stream",
     "text": [
      "My name is\n",
      "Jimmy Five Times(0)\n",
      "Jimmy Five Times(1)\n",
      "Jimmy Five Times(2)\n",
      "Jimmy Five Times(3)\n",
      "Jimmy Five Times(4)\n"
     ]
    }
   ],
   "source": [
    "print('My name is')\n",
    "for i in range(5):\n",
    "    print('Jimmy Five Times('+str(i)+')')"
   ]
  },
  {
   "cell_type": "code",
   "execution_count": 27,
   "metadata": {},
   "outputs": [
    {
     "name": "stdout",
     "output_type": "stream",
     "text": [
      "5050\n"
     ]
    }
   ],
   "source": [
    "total = 0\n",
    "for num in range(101):\n",
    "    total = total+num\n",
    "print(total)"
   ]
  },
  {
   "cell_type": "markdown",
   "metadata": {},
   "source": [
    "### 2.7.9 等价的while循环"
   ]
  },
  {
   "cell_type": "code",
   "execution_count": 28,
   "metadata": {},
   "outputs": [
    {
     "name": "stdout",
     "output_type": "stream",
     "text": [
      "My name is\n",
      "Jimmy Five Times(0)\n",
      "Jimmy Five Times(1)\n",
      "Jimmy Five Times(2)\n",
      "Jimmy Five Times(3)\n",
      "Jimmy Five Times(4)\n"
     ]
    }
   ],
   "source": [
    "print('My name is')\n",
    "i = 0\n",
    "while i < 5:\n",
    "    print('Jimmy Five Times('+str(i)+')')\n",
    "    i = i + 1"
   ]
  },
  {
   "cell_type": "markdown",
   "metadata": {},
   "source": [
    "### 2.7.10 range()的开始、停止和步长参数"
   ]
  },
  {
   "cell_type": "code",
   "execution_count": 29,
   "metadata": {},
   "outputs": [
    {
     "name": "stdout",
     "output_type": "stream",
     "text": [
      "12\n",
      "13\n",
      "14\n",
      "15\n"
     ]
    }
   ],
   "source": [
    "for i in range(12, 16):\n",
    "    print(i)"
   ]
  },
  {
   "cell_type": "code",
   "execution_count": 30,
   "metadata": {},
   "outputs": [
    {
     "name": "stdout",
     "output_type": "stream",
     "text": [
      "0\n",
      "2\n",
      "4\n",
      "6\n",
      "8\n"
     ]
    }
   ],
   "source": [
    "for i in range(0, 10, 2):\n",
    "    print(i)"
   ]
  },
  {
   "cell_type": "code",
   "execution_count": 31,
   "metadata": {},
   "outputs": [
    {
     "name": "stdout",
     "output_type": "stream",
     "text": [
      "5\n",
      "4\n",
      "3\n",
      "2\n",
      "1\n",
      "0\n"
     ]
    }
   ],
   "source": [
    "for i in range(5, -1, -1):\n",
    "    print(i)"
   ]
  },
  {
   "cell_type": "markdown",
   "metadata": {},
   "source": [
    "## 2.8 导入模块"
   ]
  },
  {
   "cell_type": "code",
   "execution_count": 39,
   "metadata": {},
   "outputs": [
    {
     "name": "stdout",
     "output_type": "stream",
     "text": [
      "6\n",
      "6\n",
      "9\n",
      "2\n",
      "7\n"
     ]
    }
   ],
   "source": [
    "import random\n",
    "for i in range(5):\n",
    "    print(random.randint(1, 10))"
   ]
  },
  {
   "cell_type": "code",
   "execution_count": 40,
   "metadata": {},
   "outputs": [
    {
     "name": "stdout",
     "output_type": "stream",
     "text": [
      "Type exit to exit.\n"
     ]
    },
    {
     "name": "stdin",
     "output_type": "stream",
     "text": [
      " 123\n"
     ]
    },
    {
     "name": "stdout",
     "output_type": "stream",
     "text": [
      "You typed123.\n",
      "Type exit to exit.\n"
     ]
    },
    {
     "name": "stdin",
     "output_type": "stream",
     "text": [
      " exit\n"
     ]
    },
    {
     "ename": "SystemExit",
     "evalue": "",
     "output_type": "error",
     "traceback": [
      "An exception has occurred, use %tb to see the full traceback.\n",
      "\u001b[0;31mSystemExit\u001b[0m\n"
     ]
    }
   ],
   "source": [
    "import sys\n",
    "while True:\n",
    "    print('Type exit to exit.')\n",
    "    response = input()\n",
    "    if response == 'exit':\n",
    "        sys.exit()\n",
    "    print('You typed' + response + '.')"
   ]
  },
  {
   "cell_type": "code",
   "execution_count": null,
   "metadata": {},
   "outputs": [],
   "source": []
  }
 ],
 "metadata": {
  "kernelspec": {
   "display_name": "Python 3",
   "language": "python",
   "name": "python3"
  },
  "language_info": {
   "codemirror_mode": {
    "name": "ipython",
    "version": 3
   },
   "file_extension": ".py",
   "mimetype": "text/x-python",
   "name": "python",
   "nbconvert_exporter": "python",
   "pygments_lexer": "ipython3",
   "version": "3.8.5"
  },
  "toc-autonumbering": false,
  "toc-showcode": false,
  "toc-showmarkdowntxt": false,
  "toc-showtags": false,
  "widgets": {
   "application/vnd.jupyter.widget-state+json": {
    "state": {
     "0297c314b4654f54a5f39f6355307167": {
      "model_module": "@jupyter-widgets/controls",
      "model_module_version": "1.5.0",
      "model_name": "VBoxModel",
      "state": {
       "_dom_classes": [
        "widget-interact"
       ],
       "children": [
        "IPY_MODEL_0af0bbcf945744c3b8fe1cd46fadfd58",
        "IPY_MODEL_3347e79dbaff469a8359e9a8c7656b57"
       ],
       "layout": "IPY_MODEL_d6b6c6dd7f2a4dccbe95eddc7d466395"
      }
     },
     "0af0bbcf945744c3b8fe1cd46fadfd58": {
      "model_module": "@jupyter-widgets/controls",
      "model_module_version": "1.5.0",
      "model_name": "DropdownModel",
      "state": {
       "_options_labels": [
        "动图1.gif",
        "毕业照-1.jpg",
        "动图2.gif",
        ".ipynb_checkpoints"
       ],
       "description": "file",
       "index": 2,
       "layout": "IPY_MODEL_aed097b45a9d405b86ab4adb7b079d22",
       "style": "IPY_MODEL_aa408501127d41a4ada1041c5a2eba76"
      }
     },
     "20a33fa3f6d442d49d4933b89abd3508": {
      "model_module": "@jupyter-widgets/base",
      "model_module_version": "1.2.0",
      "model_name": "LayoutModel",
      "state": {}
     },
     "3347e79dbaff469a8359e9a8c7656b57": {
      "model_module": "@jupyter-widgets/output",
      "model_module_version": "1.0.0",
      "model_name": "OutputModel",
      "state": {
       "layout": "IPY_MODEL_20a33fa3f6d442d49d4933b89abd3508",
       "outputs": [
        {
         "data": {
          "image/gif": "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\n",
          "text/plain": "<IPython.core.display.Image object>"
         },
         "metadata": {},
         "output_type": "display_data"
        }
       ]
      }
     },
     "aa408501127d41a4ada1041c5a2eba76": {
      "model_module": "@jupyter-widgets/controls",
      "model_module_version": "1.5.0",
      "model_name": "DescriptionStyleModel",
      "state": {
       "description_width": ""
      }
     },
     "aed097b45a9d405b86ab4adb7b079d22": {
      "model_module": "@jupyter-widgets/base",
      "model_module_version": "1.2.0",
      "model_name": "LayoutModel",
      "state": {}
     },
     "d6b6c6dd7f2a4dccbe95eddc7d466395": {
      "model_module": "@jupyter-widgets/base",
      "model_module_version": "1.2.0",
      "model_name": "LayoutModel",
      "state": {}
     }
    },
    "version_major": 2,
    "version_minor": 0
   }
  }
 },
 "nbformat": 4,
 "nbformat_minor": 4
}
