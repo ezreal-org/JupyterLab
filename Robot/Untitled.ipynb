{
 "cells": [
  {
   "cell_type": "markdown",
   "metadata": {},
   "source": [
    "# 微信机器人\n",
    "\n",
    "\n",
    "**先做基本的自动回复**"
   ]
  },
  {
   "cell_type": "code",
   "execution_count": 2,
   "metadata": {},
   "outputs": [
    {
     "ename": "ModuleNotFoundError",
     "evalue": "No module named 'WechatPCAPI'",
     "output_type": "error",
     "traceback": [
      "\u001b[0;31m---------------------------------------------------------------------------\u001b[0m",
      "\u001b[0;31mModuleNotFoundError\u001b[0m                       Traceback (most recent call last)",
      "\u001b[0;32m<ipython-input-2-5c7e7838bfc0>\u001b[0m in \u001b[0;36m<module>\u001b[0;34m\u001b[0m\n\u001b[1;32m      1\u001b[0m \u001b[0;32mimport\u001b[0m \u001b[0mtime\u001b[0m\u001b[0;34m,\u001b[0m \u001b[0mlogging\u001b[0m\u001b[0;34m,\u001b[0m \u001b[0mrandom\u001b[0m\u001b[0;34m,\u001b[0m \u001b[0mrequests\u001b[0m\u001b[0;34m\u001b[0m\u001b[0;34m\u001b[0m\u001b[0m\n\u001b[1;32m      2\u001b[0m \u001b[0;32mfrom\u001b[0m \u001b[0mqueue\u001b[0m \u001b[0;32mimport\u001b[0m \u001b[0mQueue\u001b[0m\u001b[0;34m\u001b[0m\u001b[0;34m\u001b[0m\u001b[0m\n\u001b[0;32m----> 3\u001b[0;31m \u001b[0;32mfrom\u001b[0m \u001b[0mWechatPCAPI\u001b[0m \u001b[0;32mimport\u001b[0m \u001b[0mWechatPCAPI\u001b[0m\u001b[0;34m\u001b[0m\u001b[0;34m\u001b[0m\u001b[0m\n\u001b[0m\u001b[1;32m      4\u001b[0m \u001b[0;34m\u001b[0m\u001b[0m\n\u001b[1;32m      5\u001b[0m \u001b[0mlogging\u001b[0m\u001b[0;34m.\u001b[0m\u001b[0mbasicConfig\u001b[0m\u001b[0;34m(\u001b[0m\u001b[0mlevel\u001b[0m\u001b[0;34m=\u001b[0m\u001b[0mlogging\u001b[0m\u001b[0;34m.\u001b[0m\u001b[0mINFO\u001b[0m\u001b[0;34m)\u001b[0m\u001b[0;34m\u001b[0m\u001b[0;34m\u001b[0m\u001b[0m\n",
      "\u001b[0;31mModuleNotFoundError\u001b[0m: No module named 'WechatPCAPI'"
     ]
    }
   ],
   "source": [
    "import time, logging, random, requests\n",
    "from queue import Queue\n",
    "from WechatPCAPI import WechatPCAPI\n",
    "\n",
    "logging.basicConfig(level=logging.INFO)\n",
    "queue_recved_event = Queue()\n",
    "\n",
    "def on_message(msg):\n",
    "    queue_recved_event.put(msg)\n",
    "\n",
    "# 机器人返回消息\n",
    "def reply_msg(receive_msg):\n",
    "    return '好的,' + receive_msg\n",
    "#     apikey = '自己的apikey'\n",
    "#     apiurl = 'http://www.tuling123.com/openapi/api?key=%s&info=%s' % (apikey, receive_msg)\n",
    "#     result = requests.get(apiurl)\n",
    "#     result.encoding = 'utf-8'\n",
    "#     data = result.json()\n",
    "#     return data['text']\n",
    "\n",
    "def login():\n",
    "    pre_msg = ''\n",
    "    # 初始化微信实例\n",
    "    wx_inst = WechatPCAPI(on_message=on_message, log=logging)\n",
    "    # 启动微信\n",
    "    wx_inst.start_wechat(block=True)\n",
    "    # 等待登陆成功，此时需要人为扫码登录微信\n",
    "    while not wx_inst.get_myself():\n",
    "        time.sleep(5)\n",
    "    print('登陆成功')\n",
    "    while True:\n",
    "        msg = queue_recved_event.get()\n",
    "        if 'msg::single' in msg.get('type'):\n",
    "            data = msg.get('data')\n",
    "            if data.get('is_recv', False):\n",
    "                msgfrominfo = data.get('msgfrominfo')\n",
    "                if msgfrominfo is not None:\n",
    "                    wx_id = msgfrominfo.get('wx_id')\n",
    "                    if wx_id != 'weixin':\n",
    "                        receive_msg =str(data.get('msgcontent'))\n",
    "                        reply = reply_msg(receive_msg)\n",
    "                        wx_inst.send_text(to_user=wx_id, msg=reply)"
   ]
  },
  {
   "cell_type": "code",
   "execution_count": null,
   "metadata": {},
   "outputs": [],
   "source": []
  }
 ],
 "metadata": {
  "kernelspec": {
   "display_name": "Python 3",
   "language": "python",
   "name": "python3"
  },
  "language_info": {
   "codemirror_mode": {
    "name": "ipython",
    "version": 3
   },
   "file_extension": ".py",
   "mimetype": "text/x-python",
   "name": "python",
   "nbconvert_exporter": "python",
   "pygments_lexer": "ipython3",
   "version": "3.8.5"
  }
 },
 "nbformat": 4,
 "nbformat_minor": 4
}
